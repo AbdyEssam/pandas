{
 "cells": [
  {
   "cell_type": "markdown",
   "id": "bf7cdaf6",
   "metadata": {
    "papermill": {
     "duration": 0.005642,
     "end_time": "2022-06-28T13:32:24.089441",
     "exception": false,
     "start_time": "2022-06-28T13:32:24.083799",
     "status": "completed"
    },
    "tags": []
   },
   "source": [
    "**This notebook is an exercise in the [Pandas](https://www.kaggle.com/learn/pandas) course.  You can reference the tutorial at [this link](https://www.kaggle.com/residentmario/data-types-and-missing-values).**\n",
    "\n",
    "---\n"
   ]
  },
  {
   "cell_type": "markdown",
   "id": "ec574e1c",
   "metadata": {
    "papermill": {
     "duration": 0.004264,
     "end_time": "2022-06-28T13:32:24.098626",
     "exception": false,
     "start_time": "2022-06-28T13:32:24.094362",
     "status": "completed"
    },
    "tags": []
   },
   "source": [
    "# Introduction\n",
    "\n",
    "Run the following cell to load your data and some utility functions."
   ]
  },
  {
   "cell_type": "code",
   "execution_count": 1,
   "id": "98923886",
   "metadata": {
    "execution": {
     "iopub.execute_input": "2022-06-28T13:32:24.110511Z",
     "iopub.status.busy": "2022-06-28T13:32:24.109253Z",
     "iopub.status.idle": "2022-06-28T13:32:26.871319Z",
     "shell.execute_reply": "2022-06-28T13:32:26.870064Z"
    },
    "papermill": {
     "duration": 2.771553,
     "end_time": "2022-06-28T13:32:26.874685",
     "exception": false,
     "start_time": "2022-06-28T13:32:24.103132",
     "status": "completed"
    },
    "tags": []
   },
   "outputs": [
    {
     "name": "stdout",
     "output_type": "stream",
     "text": [
      "Setup complete.\n"
     ]
    }
   ],
   "source": [
    "import pandas as pd\n",
    "\n",
    "reviews = pd.read_csv(\"../input/wine-reviews/winemag-data-130k-v2.csv\", index_col=0)\n",
    "\n",
    "from learntools.core import binder; binder.bind(globals())\n",
    "from learntools.pandas.data_types_and_missing_data import *\n",
    "print(\"Setup complete.\")"
   ]
  },
  {
   "cell_type": "markdown",
   "id": "e153da4c",
   "metadata": {
    "papermill": {
     "duration": 0.00421,
     "end_time": "2022-06-28T13:32:26.883935",
     "exception": false,
     "start_time": "2022-06-28T13:32:26.879725",
     "status": "completed"
    },
    "tags": []
   },
   "source": [
    "# Exercises"
   ]
  },
  {
   "cell_type": "markdown",
   "id": "cb2f489f",
   "metadata": {
    "papermill": {
     "duration": 0.00436,
     "end_time": "2022-06-28T13:32:26.893056",
     "exception": false,
     "start_time": "2022-06-28T13:32:26.888696",
     "status": "completed"
    },
    "tags": []
   },
   "source": [
    "## 1. \n",
    "What is the data type of the `points` column in the dataset?"
   ]
  },
  {
   "cell_type": "code",
   "execution_count": 2,
   "id": "d4e71069",
   "metadata": {
    "execution": {
     "iopub.execute_input": "2022-06-28T13:32:26.903520Z",
     "iopub.status.busy": "2022-06-28T13:32:26.903181Z",
     "iopub.status.idle": "2022-06-28T13:32:26.913974Z",
     "shell.execute_reply": "2022-06-28T13:32:26.913001Z"
    },
    "papermill": {
     "duration": 0.018509,
     "end_time": "2022-06-28T13:32:26.915929",
     "exception": false,
     "start_time": "2022-06-28T13:32:26.897420",
     "status": "completed"
    },
    "tags": []
   },
   "outputs": [
    {
     "data": {
      "application/javascript": [
       "parent.postMessage({\"jupyterEvent\": \"custom.exercise_interaction\", \"data\": {\"outcomeType\": 1, \"valueTowardsCompletion\": 0.25, \"interactionType\": 1, \"questionType\": 1, \"questionId\": \"1_PointsDtype\", \"learnToolsVersion\": \"0.3.4\", \"failureMessage\": \"\", \"exceptionClass\": \"\", \"trace\": \"\"}}, \"*\")"
      ],
      "text/plain": [
       "<IPython.core.display.Javascript object>"
      ]
     },
     "metadata": {},
     "output_type": "display_data"
    },
    {
     "data": {
      "text/markdown": [
       "<span style=\"color:#33cc33\">Correct</span>"
      ],
      "text/plain": [
       "Correct"
      ]
     },
     "metadata": {},
     "output_type": "display_data"
    }
   ],
   "source": [
    "# Your code here\n",
    "dtype = reviews.points.dtype\n",
    "\n",
    "# Check your answer\n",
    "q1.check()"
   ]
  },
  {
   "cell_type": "code",
   "execution_count": 3,
   "id": "b6dfbda3",
   "metadata": {
    "execution": {
     "iopub.execute_input": "2022-06-28T13:32:26.926597Z",
     "iopub.status.busy": "2022-06-28T13:32:26.926296Z",
     "iopub.status.idle": "2022-06-28T13:32:26.930314Z",
     "shell.execute_reply": "2022-06-28T13:32:26.929322Z"
    },
    "papermill": {
     "duration": 0.011835,
     "end_time": "2022-06-28T13:32:26.932502",
     "exception": false,
     "start_time": "2022-06-28T13:32:26.920667",
     "status": "completed"
    },
    "tags": []
   },
   "outputs": [],
   "source": [
    "#q1.hint()\n",
    "#q1.solution()"
   ]
  },
  {
   "cell_type": "markdown",
   "id": "bd5a12e4",
   "metadata": {
    "papermill": {
     "duration": 0.004438,
     "end_time": "2022-06-28T13:32:26.941520",
     "exception": false,
     "start_time": "2022-06-28T13:32:26.937082",
     "status": "completed"
    },
    "tags": []
   },
   "source": [
    "## 2. \n",
    "Create a Series from entries in the `points` column, but convert the entries to strings. Hint: strings are `str` in native Python."
   ]
  },
  {
   "cell_type": "code",
   "execution_count": 4,
   "id": "698f4204",
   "metadata": {
    "execution": {
     "iopub.execute_input": "2022-06-28T13:32:26.952873Z",
     "iopub.status.busy": "2022-06-28T13:32:26.952551Z",
     "iopub.status.idle": "2022-06-28T13:32:27.082397Z",
     "shell.execute_reply": "2022-06-28T13:32:27.081323Z"
    },
    "papermill": {
     "duration": 0.138112,
     "end_time": "2022-06-28T13:32:27.084671",
     "exception": false,
     "start_time": "2022-06-28T13:32:26.946559",
     "status": "completed"
    },
    "tags": []
   },
   "outputs": [
    {
     "data": {
      "application/javascript": [
       "parent.postMessage({\"jupyterEvent\": \"custom.exercise_interaction\", \"data\": {\"outcomeType\": 1, \"valueTowardsCompletion\": 0.25, \"interactionType\": 1, \"questionType\": 1, \"questionId\": \"2_StrPoints\", \"learnToolsVersion\": \"0.3.4\", \"failureMessage\": \"\", \"exceptionClass\": \"\", \"trace\": \"\"}}, \"*\")"
      ],
      "text/plain": [
       "<IPython.core.display.Javascript object>"
      ]
     },
     "metadata": {},
     "output_type": "display_data"
    },
    {
     "data": {
      "text/markdown": [
       "<span style=\"color:#33cc33\">Correct</span>"
      ],
      "text/plain": [
       "Correct"
      ]
     },
     "metadata": {},
     "output_type": "display_data"
    }
   ],
   "source": [
    "point_strings = reviews.points.astype(\"str\")\n",
    "\n",
    "# Check your answer\n",
    "q2.check()"
   ]
  },
  {
   "cell_type": "code",
   "execution_count": 5,
   "id": "3c1eec2e",
   "metadata": {
    "execution": {
     "iopub.execute_input": "2022-06-28T13:32:27.096190Z",
     "iopub.status.busy": "2022-06-28T13:32:27.095869Z",
     "iopub.status.idle": "2022-06-28T13:32:27.100651Z",
     "shell.execute_reply": "2022-06-28T13:32:27.099739Z"
    },
    "papermill": {
     "duration": 0.012853,
     "end_time": "2022-06-28T13:32:27.102663",
     "exception": false,
     "start_time": "2022-06-28T13:32:27.089810",
     "status": "completed"
    },
    "tags": []
   },
   "outputs": [],
   "source": [
    "#q2.hint()\n",
    "#q2.solution()"
   ]
  },
  {
   "cell_type": "markdown",
   "id": "ad11afee",
   "metadata": {
    "papermill": {
     "duration": 0.004506,
     "end_time": "2022-06-28T13:32:27.111779",
     "exception": false,
     "start_time": "2022-06-28T13:32:27.107273",
     "status": "completed"
    },
    "tags": []
   },
   "source": [
    "## 3.\n",
    "Sometimes the price column is null. How many reviews in the dataset are missing a price?"
   ]
  },
  {
   "cell_type": "code",
   "execution_count": 6,
   "id": "d3f295f8",
   "metadata": {
    "execution": {
     "iopub.execute_input": "2022-06-28T13:32:27.122433Z",
     "iopub.status.busy": "2022-06-28T13:32:27.122114Z",
     "iopub.status.idle": "2022-06-28T13:32:27.136880Z",
     "shell.execute_reply": "2022-06-28T13:32:27.135899Z"
    },
    "papermill": {
     "duration": 0.022469,
     "end_time": "2022-06-28T13:32:27.138741",
     "exception": false,
     "start_time": "2022-06-28T13:32:27.116272",
     "status": "completed"
    },
    "tags": []
   },
   "outputs": [
    {
     "data": {
      "application/javascript": [
       "parent.postMessage({\"jupyterEvent\": \"custom.exercise_interaction\", \"data\": {\"outcomeType\": 1, \"valueTowardsCompletion\": 0.25, \"interactionType\": 1, \"questionType\": 1, \"questionId\": \"3_CountMissingPrices\", \"learnToolsVersion\": \"0.3.4\", \"failureMessage\": \"\", \"exceptionClass\": \"\", \"trace\": \"\"}}, \"*\")"
      ],
      "text/plain": [
       "<IPython.core.display.Javascript object>"
      ]
     },
     "metadata": {},
     "output_type": "display_data"
    },
    {
     "data": {
      "text/markdown": [
       "<span style=\"color:#33cc33\">Correct</span>"
      ],
      "text/plain": [
       "Correct"
      ]
     },
     "metadata": {},
     "output_type": "display_data"
    }
   ],
   "source": [
    "n_missing_prices = len(reviews[reviews.price.isnull()])\n",
    "\n",
    "# Check your answer\n",
    "q3.check()"
   ]
  },
  {
   "cell_type": "code",
   "execution_count": 7,
   "id": "3c448d2c",
   "metadata": {
    "execution": {
     "iopub.execute_input": "2022-06-28T13:32:27.150325Z",
     "iopub.status.busy": "2022-06-28T13:32:27.150014Z",
     "iopub.status.idle": "2022-06-28T13:32:27.153437Z",
     "shell.execute_reply": "2022-06-28T13:32:27.152685Z"
    },
    "papermill": {
     "duration": 0.011451,
     "end_time": "2022-06-28T13:32:27.155347",
     "exception": false,
     "start_time": "2022-06-28T13:32:27.143896",
     "status": "completed"
    },
    "tags": []
   },
   "outputs": [],
   "source": [
    "#q3.hint()\n",
    "#q3.solution()"
   ]
  },
  {
   "cell_type": "markdown",
   "id": "b8d75554",
   "metadata": {
    "papermill": {
     "duration": 0.00476,
     "end_time": "2022-06-28T13:32:27.165073",
     "exception": false,
     "start_time": "2022-06-28T13:32:27.160313",
     "status": "completed"
    },
    "tags": []
   },
   "source": [
    "## 4.\n",
    "What are the most common wine-producing regions? Create a Series counting the number of times each value occurs in the `region_1` field. This field is often missing data, so replace missing values with `Unknown`. Sort in descending order.  Your output should look something like this:\n",
    "\n",
    "```\n",
    "Unknown                    21247\n",
    "Napa Valley                 4480\n",
    "                           ...  \n",
    "Bardolino Superiore            1\n",
    "Primitivo del Tarantino        1\n",
    "Name: region_1, Length: 1230, dtype: int64\n",
    "```"
   ]
  },
  {
   "cell_type": "code",
   "execution_count": 8,
   "id": "3c334e80",
   "metadata": {
    "execution": {
     "iopub.execute_input": "2022-06-28T13:32:27.177664Z",
     "iopub.status.busy": "2022-06-28T13:32:27.175981Z",
     "iopub.status.idle": "2022-06-28T13:32:27.250840Z",
     "shell.execute_reply": "2022-06-28T13:32:27.249851Z"
    },
    "papermill": {
     "duration": 0.083013,
     "end_time": "2022-06-28T13:32:27.253016",
     "exception": false,
     "start_time": "2022-06-28T13:32:27.170003",
     "status": "completed"
    },
    "tags": []
   },
   "outputs": [
    {
     "data": {
      "application/javascript": [
       "parent.postMessage({\"jupyterEvent\": \"custom.exercise_interaction\", \"data\": {\"outcomeType\": 1, \"valueTowardsCompletion\": 0.25, \"interactionType\": 1, \"questionType\": 2, \"questionId\": \"4_ReviewsPerRegion\", \"learnToolsVersion\": \"0.3.4\", \"failureMessage\": \"\", \"exceptionClass\": \"\", \"trace\": \"\"}}, \"*\")"
      ],
      "text/plain": [
       "<IPython.core.display.Javascript object>"
      ]
     },
     "metadata": {},
     "output_type": "display_data"
    },
    {
     "data": {
      "text/markdown": [
       "<span style=\"color:#33cc33\">Correct</span>"
      ],
      "text/plain": [
       "Correct"
      ]
     },
     "metadata": {},
     "output_type": "display_data"
    }
   ],
   "source": [
    "reviews_per_region = reviews.region_1.fillna(\"Unknown\").value_counts().sort_values(ascending=False)\n",
    "\n",
    "# Check your answer\n",
    "q4.check()"
   ]
  },
  {
   "cell_type": "code",
   "execution_count": 9,
   "id": "45ebfb3a",
   "metadata": {
    "execution": {
     "iopub.execute_input": "2022-06-28T13:32:27.265321Z",
     "iopub.status.busy": "2022-06-28T13:32:27.265000Z",
     "iopub.status.idle": "2022-06-28T13:32:27.268802Z",
     "shell.execute_reply": "2022-06-28T13:32:27.267663Z"
    },
    "papermill": {
     "duration": 0.012605,
     "end_time": "2022-06-28T13:32:27.270997",
     "exception": false,
     "start_time": "2022-06-28T13:32:27.258392",
     "status": "completed"
    },
    "tags": []
   },
   "outputs": [],
   "source": [
    "#q4.hint()\n",
    "#q4.solution()"
   ]
  },
  {
   "cell_type": "markdown",
   "id": "417e127d",
   "metadata": {
    "papermill": {
     "duration": 0.005034,
     "end_time": "2022-06-28T13:32:27.281544",
     "exception": false,
     "start_time": "2022-06-28T13:32:27.276510",
     "status": "completed"
    },
    "tags": []
   },
   "source": [
    "# Keep going\n",
    "\n",
    "Move on to **[renaming and combining](https://www.kaggle.com/residentmario/renaming-and-combining)**."
   ]
  },
  {
   "cell_type": "markdown",
   "id": "e7862c9b",
   "metadata": {
    "papermill": {
     "duration": 0.005052,
     "end_time": "2022-06-28T13:32:27.291989",
     "exception": false,
     "start_time": "2022-06-28T13:32:27.286937",
     "status": "completed"
    },
    "tags": []
   },
   "source": [
    "---\n",
    "\n",
    "\n",
    "\n",
    "\n",
    "*Have questions or comments? Visit the [course discussion forum](https://www.kaggle.com/learn/pandas/discussion) to chat with other learners.*"
   ]
  }
 ],
 "metadata": {
  "kernelspec": {
   "display_name": "Python 3",
   "language": "python",
   "name": "python3"
  },
  "language_info": {
   "codemirror_mode": {
    "name": "ipython",
    "version": 3
   },
   "file_extension": ".py",
   "mimetype": "text/x-python",
   "name": "python",
   "nbconvert_exporter": "python",
   "pygments_lexer": "ipython3",
   "version": "3.7.12"
  },
  "papermill": {
   "default_parameters": {},
   "duration": 13.004591,
   "end_time": "2022-06-28T13:32:27.916594",
   "environment_variables": {},
   "exception": null,
   "input_path": "__notebook__.ipynb",
   "output_path": "__notebook__.ipynb",
   "parameters": {},
   "start_time": "2022-06-28T13:32:14.912003",
   "version": "2.3.4"
  }
 },
 "nbformat": 4,
 "nbformat_minor": 5
}
