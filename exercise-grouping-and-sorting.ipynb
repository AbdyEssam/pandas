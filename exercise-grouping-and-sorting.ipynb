{
 "cells": [
  {
   "cell_type": "markdown",
   "id": "11f81816",
   "metadata": {
    "papermill": {
     "duration": 0.007948,
     "end_time": "2022-06-28T13:19:15.162456",
     "exception": false,
     "start_time": "2022-06-28T13:19:15.154508",
     "status": "completed"
    },
    "tags": []
   },
   "source": [
    "**This notebook is an exercise in the [Pandas](https://www.kaggle.com/learn/pandas) course.  You can reference the tutorial at [this link](https://www.kaggle.com/residentmario/grouping-and-sorting).**\n",
    "\n",
    "---\n"
   ]
  },
  {
   "cell_type": "markdown",
   "id": "7ac6ebf4",
   "metadata": {
    "papermill": {
     "duration": 0.006598,
     "end_time": "2022-06-28T13:19:15.175955",
     "exception": false,
     "start_time": "2022-06-28T13:19:15.169357",
     "status": "completed"
    },
    "tags": []
   },
   "source": [
    "# Introduction\n",
    "\n",
    "In these exercises we'll apply groupwise analysis to our dataset.\n",
    "\n",
    "Run the code cell below to load the data before running the exercises."
   ]
  },
  {
   "cell_type": "code",
   "execution_count": 1,
   "id": "e3c7b153",
   "metadata": {
    "execution": {
     "iopub.execute_input": "2022-06-28T13:19:15.191778Z",
     "iopub.status.busy": "2022-06-28T13:19:15.191289Z",
     "iopub.status.idle": "2022-06-28T13:19:17.944079Z",
     "shell.execute_reply": "2022-06-28T13:19:17.942704Z"
    },
    "papermill": {
     "duration": 2.76422,
     "end_time": "2022-06-28T13:19:17.947223",
     "exception": false,
     "start_time": "2022-06-28T13:19:15.183003",
     "status": "completed"
    },
    "tags": []
   },
   "outputs": [
    {
     "name": "stdout",
     "output_type": "stream",
     "text": [
      "Setup complete.\n"
     ]
    }
   ],
   "source": [
    "import pandas as pd\n",
    "\n",
    "reviews = pd.read_csv(\"../input/wine-reviews/winemag-data-130k-v2.csv\", index_col=0)\n",
    "#pd.set_option(\"display.max_rows\", 5)\n",
    "\n",
    "from learntools.core import binder; binder.bind(globals())\n",
    "from learntools.pandas.grouping_and_sorting import *\n",
    "print(\"Setup complete.\")"
   ]
  },
  {
   "cell_type": "markdown",
   "id": "ac469bc8",
   "metadata": {
    "papermill": {
     "duration": 0.006445,
     "end_time": "2022-06-28T13:19:17.960486",
     "exception": false,
     "start_time": "2022-06-28T13:19:17.954041",
     "status": "completed"
    },
    "tags": []
   },
   "source": [
    "# Exercises"
   ]
  },
  {
   "cell_type": "markdown",
   "id": "637ca80c",
   "metadata": {
    "papermill": {
     "duration": 0.006369,
     "end_time": "2022-06-28T13:19:17.973686",
     "exception": false,
     "start_time": "2022-06-28T13:19:17.967317",
     "status": "completed"
    },
    "tags": []
   },
   "source": [
    "## 1.\n",
    "Who are the most common wine reviewers in the dataset? Create a `Series` whose index is the `taster_twitter_handle` category from the dataset, and whose values count how many reviews each person wrote."
   ]
  },
  {
   "cell_type": "code",
   "execution_count": 2,
   "id": "501cabdb",
   "metadata": {
    "execution": {
     "iopub.execute_input": "2022-06-28T13:19:17.988864Z",
     "iopub.status.busy": "2022-06-28T13:19:17.988328Z",
     "iopub.status.idle": "2022-06-28T13:19:18.026689Z",
     "shell.execute_reply": "2022-06-28T13:19:18.025426Z"
    },
    "papermill": {
     "duration": 0.04892,
     "end_time": "2022-06-28T13:19:18.029091",
     "exception": false,
     "start_time": "2022-06-28T13:19:17.980171",
     "status": "completed"
    },
    "tags": []
   },
   "outputs": [
    {
     "data": {
      "application/javascript": [
       "parent.postMessage({\"jupyterEvent\": \"custom.exercise_interaction\", \"data\": {\"outcomeType\": 1, \"valueTowardsCompletion\": 0.16666666666666666, \"interactionType\": 1, \"questionType\": 1, \"questionId\": \"1_ReviewsWritten\", \"learnToolsVersion\": \"0.3.4\", \"failureMessage\": \"\", \"exceptionClass\": \"\", \"trace\": \"\"}}, \"*\")"
      ],
      "text/plain": [
       "<IPython.core.display.Javascript object>"
      ]
     },
     "metadata": {},
     "output_type": "display_data"
    },
    {
     "data": {
      "text/markdown": [
       "<span style=\"color:#33cc33\">Correct:</span> \n",
       "\n",
       "\n",
       "```python\n",
       "reviews_written = reviews.groupby('taster_twitter_handle').size()\n",
       "```\n",
       "or\n",
       "```python\n",
       "reviews_written = reviews.groupby('taster_twitter_handle').taster_twitter_handle.count()\n",
       "```\n"
      ],
      "text/plain": [
       "Correct: \n",
       "\n",
       "\n",
       "```python\n",
       "reviews_written = reviews.groupby('taster_twitter_handle').size()\n",
       "```\n",
       "or\n",
       "```python\n",
       "reviews_written = reviews.groupby('taster_twitter_handle').taster_twitter_handle.count()\n",
       "```"
      ]
     },
     "metadata": {},
     "output_type": "display_data"
    }
   ],
   "source": [
    "# Your code here\n",
    "reviews_written = reviews.groupby('taster_twitter_handle').taster_twitter_handle.count()\n",
    "\n",
    "# Check your answer\n",
    "q1.check()"
   ]
  },
  {
   "cell_type": "code",
   "execution_count": 3,
   "id": "11c9d2ea",
   "metadata": {
    "execution": {
     "iopub.execute_input": "2022-06-28T13:19:18.044830Z",
     "iopub.status.busy": "2022-06-28T13:19:18.044259Z",
     "iopub.status.idle": "2022-06-28T13:19:18.047907Z",
     "shell.execute_reply": "2022-06-28T13:19:18.047025Z"
    },
    "papermill": {
     "duration": 0.013951,
     "end_time": "2022-06-28T13:19:18.050056",
     "exception": false,
     "start_time": "2022-06-28T13:19:18.036105",
     "status": "completed"
    },
    "tags": []
   },
   "outputs": [],
   "source": [
    "#q1.hint()\n",
    "#q1.solution()"
   ]
  },
  {
   "cell_type": "markdown",
   "id": "a5dd0473",
   "metadata": {
    "papermill": {
     "duration": 0.006737,
     "end_time": "2022-06-28T13:19:18.063759",
     "exception": false,
     "start_time": "2022-06-28T13:19:18.057022",
     "status": "completed"
    },
    "tags": []
   },
   "source": [
    "## 2.\n",
    "What is the best wine I can buy for a given amount of money? Create a `Series` whose index is wine prices and whose values is the maximum number of points a wine costing that much was given in a review. Sort the values by price, ascending (so that `4.0` dollars is at the top and `3300.0` dollars is at the bottom)."
   ]
  },
  {
   "cell_type": "code",
   "execution_count": 4,
   "id": "fd0c841e",
   "metadata": {
    "execution": {
     "iopub.execute_input": "2022-06-28T13:19:18.079887Z",
     "iopub.status.busy": "2022-06-28T13:19:18.079151Z",
     "iopub.status.idle": "2022-06-28T13:19:18.092034Z",
     "shell.execute_reply": "2022-06-28T13:19:18.091055Z"
    },
    "papermill": {
     "duration": 0.023883,
     "end_time": "2022-06-28T13:19:18.094416",
     "exception": false,
     "start_time": "2022-06-28T13:19:18.070533",
     "status": "completed"
    },
    "tags": []
   },
   "outputs": [
    {
     "data": {
      "application/javascript": [
       "parent.postMessage({\"jupyterEvent\": \"custom.exercise_interaction\", \"data\": {\"outcomeType\": 1, \"valueTowardsCompletion\": 0.16666666666666666, \"interactionType\": 1, \"questionType\": 1, \"questionId\": \"2_BestRatingPerPrice\", \"learnToolsVersion\": \"0.3.4\", \"failureMessage\": \"\", \"exceptionClass\": \"\", \"trace\": \"\"}}, \"*\")"
      ],
      "text/plain": [
       "<IPython.core.display.Javascript object>"
      ]
     },
     "metadata": {},
     "output_type": "display_data"
    },
    {
     "data": {
      "text/markdown": [
       "<span style=\"color:#33cc33\">Correct</span>"
      ],
      "text/plain": [
       "Correct"
      ]
     },
     "metadata": {},
     "output_type": "display_data"
    }
   ],
   "source": [
    "best_rating_per_price = reviews.groupby('price')['points'].max().sort_index()\n",
    "\n",
    "# Check your answer\n",
    "q2.check()"
   ]
  },
  {
   "cell_type": "code",
   "execution_count": 5,
   "id": "47771059",
   "metadata": {
    "execution": {
     "iopub.execute_input": "2022-06-28T13:19:18.110807Z",
     "iopub.status.busy": "2022-06-28T13:19:18.110047Z",
     "iopub.status.idle": "2022-06-28T13:19:18.114908Z",
     "shell.execute_reply": "2022-06-28T13:19:18.113694Z"
    },
    "papermill": {
     "duration": 0.015392,
     "end_time": "2022-06-28T13:19:18.117091",
     "exception": false,
     "start_time": "2022-06-28T13:19:18.101699",
     "status": "completed"
    },
    "tags": []
   },
   "outputs": [],
   "source": [
    "#q2.hint()\n",
    "#q2.solution()"
   ]
  },
  {
   "cell_type": "markdown",
   "id": "c367a22b",
   "metadata": {
    "papermill": {
     "duration": 0.00688,
     "end_time": "2022-06-28T13:19:18.131216",
     "exception": false,
     "start_time": "2022-06-28T13:19:18.124336",
     "status": "completed"
    },
    "tags": []
   },
   "source": [
    "## 3.\n",
    "What are the minimum and maximum prices for each `variety` of wine? Create a `DataFrame` whose index is the `variety` category from the dataset and whose values are the `min` and `max` values thereof."
   ]
  },
  {
   "cell_type": "code",
   "execution_count": 6,
   "id": "4a0bacea",
   "metadata": {
    "execution": {
     "iopub.execute_input": "2022-06-28T13:19:18.147107Z",
     "iopub.status.busy": "2022-06-28T13:19:18.146506Z",
     "iopub.status.idle": "2022-06-28T13:19:18.177236Z",
     "shell.execute_reply": "2022-06-28T13:19:18.175891Z"
    },
    "papermill": {
     "duration": 0.04146,
     "end_time": "2022-06-28T13:19:18.179813",
     "exception": false,
     "start_time": "2022-06-28T13:19:18.138353",
     "status": "completed"
    },
    "tags": []
   },
   "outputs": [
    {
     "data": {
      "application/javascript": [
       "parent.postMessage({\"jupyterEvent\": \"custom.exercise_interaction\", \"data\": {\"outcomeType\": 1, \"valueTowardsCompletion\": 0.16666666666666666, \"interactionType\": 1, \"questionType\": 1, \"questionId\": \"3_PriceExtremes\", \"learnToolsVersion\": \"0.3.4\", \"failureMessage\": \"\", \"exceptionClass\": \"\", \"trace\": \"\"}}, \"*\")"
      ],
      "text/plain": [
       "<IPython.core.display.Javascript object>"
      ]
     },
     "metadata": {},
     "output_type": "display_data"
    },
    {
     "data": {
      "text/markdown": [
       "<span style=\"color:#33cc33\">Correct</span>"
      ],
      "text/plain": [
       "Correct"
      ]
     },
     "metadata": {},
     "output_type": "display_data"
    }
   ],
   "source": [
    "price_extremes = reviews.groupby('variety').price.agg([min, max])\n",
    "# Check your answer\n",
    "q3.check()"
   ]
  },
  {
   "cell_type": "code",
   "execution_count": 7,
   "id": "57a7279f",
   "metadata": {
    "execution": {
     "iopub.execute_input": "2022-06-28T13:19:18.197444Z",
     "iopub.status.busy": "2022-06-28T13:19:18.197045Z",
     "iopub.status.idle": "2022-06-28T13:19:18.201873Z",
     "shell.execute_reply": "2022-06-28T13:19:18.200631Z"
    },
    "papermill": {
     "duration": 0.016534,
     "end_time": "2022-06-28T13:19:18.204249",
     "exception": false,
     "start_time": "2022-06-28T13:19:18.187715",
     "status": "completed"
    },
    "tags": []
   },
   "outputs": [],
   "source": [
    "#q3.hint()\n",
    "#q3.solution()"
   ]
  },
  {
   "cell_type": "markdown",
   "id": "1f2afa7e",
   "metadata": {
    "papermill": {
     "duration": 0.007402,
     "end_time": "2022-06-28T13:19:18.219619",
     "exception": false,
     "start_time": "2022-06-28T13:19:18.212217",
     "status": "completed"
    },
    "tags": []
   },
   "source": [
    "## 4.\n",
    "What are the most expensive wine varieties? Create a variable `sorted_varieties` containing a copy of the dataframe from the previous question where varieties are sorted in descending order based on minimum price, then on maximum price (to break ties)."
   ]
  },
  {
   "cell_type": "code",
   "execution_count": 8,
   "id": "9b99a7b2",
   "metadata": {
    "execution": {
     "iopub.execute_input": "2022-06-28T13:19:18.236437Z",
     "iopub.status.busy": "2022-06-28T13:19:18.236036Z",
     "iopub.status.idle": "2022-06-28T13:19:18.248816Z",
     "shell.execute_reply": "2022-06-28T13:19:18.247573Z"
    },
    "papermill": {
     "duration": 0.023973,
     "end_time": "2022-06-28T13:19:18.251187",
     "exception": false,
     "start_time": "2022-06-28T13:19:18.227214",
     "status": "completed"
    },
    "tags": []
   },
   "outputs": [
    {
     "data": {
      "application/javascript": [
       "parent.postMessage({\"jupyterEvent\": \"custom.exercise_interaction\", \"data\": {\"outcomeType\": 1, \"valueTowardsCompletion\": 0.16666666666666666, \"interactionType\": 1, \"questionType\": 1, \"questionId\": \"4_SortedVarieties\", \"learnToolsVersion\": \"0.3.4\", \"failureMessage\": \"\", \"exceptionClass\": \"\", \"trace\": \"\"}}, \"*\")"
      ],
      "text/plain": [
       "<IPython.core.display.Javascript object>"
      ]
     },
     "metadata": {},
     "output_type": "display_data"
    },
    {
     "data": {
      "text/markdown": [
       "<span style=\"color:#33cc33\">Correct</span>"
      ],
      "text/plain": [
       "Correct"
      ]
     },
     "metadata": {},
     "output_type": "display_data"
    }
   ],
   "source": [
    "sorted_varieties = price_extremes.sort_values(by=['min', 'max'], ascending=False)\n",
    "# Check your answer\n",
    "q4.check()"
   ]
  },
  {
   "cell_type": "code",
   "execution_count": 9,
   "id": "0c9c82bf",
   "metadata": {
    "execution": {
     "iopub.execute_input": "2022-06-28T13:19:18.269582Z",
     "iopub.status.busy": "2022-06-28T13:19:18.269143Z",
     "iopub.status.idle": "2022-06-28T13:19:18.273394Z",
     "shell.execute_reply": "2022-06-28T13:19:18.272488Z"
    },
    "papermill": {
     "duration": 0.015561,
     "end_time": "2022-06-28T13:19:18.275458",
     "exception": false,
     "start_time": "2022-06-28T13:19:18.259897",
     "status": "completed"
    },
    "tags": []
   },
   "outputs": [],
   "source": [
    "#q4.hint()\n",
    "#q4.solution()"
   ]
  },
  {
   "cell_type": "markdown",
   "id": "9926641b",
   "metadata": {
    "papermill": {
     "duration": 0.007691,
     "end_time": "2022-06-28T13:19:18.291189",
     "exception": false,
     "start_time": "2022-06-28T13:19:18.283498",
     "status": "completed"
    },
    "tags": []
   },
   "source": [
    "## 5.\n",
    "Create a `Series` whose index is reviewers and whose values is the average review score given out by that reviewer. Hint: you will need the `taster_name` and `points` columns."
   ]
  },
  {
   "cell_type": "code",
   "execution_count": 10,
   "id": "929480fa",
   "metadata": {
    "execution": {
     "iopub.execute_input": "2022-06-28T13:19:18.308532Z",
     "iopub.status.busy": "2022-06-28T13:19:18.308109Z",
     "iopub.status.idle": "2022-06-28T13:19:18.334703Z",
     "shell.execute_reply": "2022-06-28T13:19:18.333419Z"
    },
    "papermill": {
     "duration": 0.037968,
     "end_time": "2022-06-28T13:19:18.337008",
     "exception": false,
     "start_time": "2022-06-28T13:19:18.299040",
     "status": "completed"
    },
    "tags": []
   },
   "outputs": [
    {
     "data": {
      "application/javascript": [
       "parent.postMessage({\"jupyterEvent\": \"custom.exercise_interaction\", \"data\": {\"outcomeType\": 1, \"valueTowardsCompletion\": 0.16666666666666666, \"interactionType\": 1, \"questionType\": 1, \"questionId\": \"5_ReviewerMeanRatings\", \"learnToolsVersion\": \"0.3.4\", \"failureMessage\": \"\", \"exceptionClass\": \"\", \"trace\": \"\"}}, \"*\")"
      ],
      "text/plain": [
       "<IPython.core.display.Javascript object>"
      ]
     },
     "metadata": {},
     "output_type": "display_data"
    },
    {
     "data": {
      "text/markdown": [
       "<span style=\"color:#33cc33\">Correct</span>"
      ],
      "text/plain": [
       "Correct"
      ]
     },
     "metadata": {},
     "output_type": "display_data"
    }
   ],
   "source": [
    "reviewer_mean_ratings = reviews.groupby('taster_name').points.mean()\n",
    "# Check your answer\n",
    "q5.check()"
   ]
  },
  {
   "cell_type": "code",
   "execution_count": 11,
   "id": "cfe6547d",
   "metadata": {
    "execution": {
     "iopub.execute_input": "2022-06-28T13:19:18.354918Z",
     "iopub.status.busy": "2022-06-28T13:19:18.354476Z",
     "iopub.status.idle": "2022-06-28T13:19:18.359576Z",
     "shell.execute_reply": "2022-06-28T13:19:18.358275Z"
    },
    "papermill": {
     "duration": 0.01683,
     "end_time": "2022-06-28T13:19:18.361944",
     "exception": false,
     "start_time": "2022-06-28T13:19:18.345114",
     "status": "completed"
    },
    "tags": []
   },
   "outputs": [],
   "source": [
    "#q5.hint()\n",
    "#q5.solution()"
   ]
  },
  {
   "cell_type": "markdown",
   "id": "cb4a7bcb",
   "metadata": {
    "papermill": {
     "duration": 0.00767,
     "end_time": "2022-06-28T13:19:18.377970",
     "exception": false,
     "start_time": "2022-06-28T13:19:18.370300",
     "status": "completed"
    },
    "tags": []
   },
   "source": [
    "Are there significant differences in the average scores assigned by the various reviewers? Run the cell below to use the `describe()` method to see a summary of the range of values."
   ]
  },
  {
   "cell_type": "code",
   "execution_count": 12,
   "id": "62db352b",
   "metadata": {
    "execution": {
     "iopub.execute_input": "2022-06-28T13:19:18.396167Z",
     "iopub.status.busy": "2022-06-28T13:19:18.395382Z",
     "iopub.status.idle": "2022-06-28T13:19:18.408863Z",
     "shell.execute_reply": "2022-06-28T13:19:18.407986Z"
    },
    "papermill": {
     "duration": 0.025015,
     "end_time": "2022-06-28T13:19:18.411035",
     "exception": false,
     "start_time": "2022-06-28T13:19:18.386020",
     "status": "completed"
    },
    "tags": []
   },
   "outputs": [
    {
     "data": {
      "text/plain": [
       "count    19.000000\n",
       "mean     88.233026\n",
       "std       1.243610\n",
       "min      85.855422\n",
       "25%      87.323501\n",
       "50%      88.536235\n",
       "75%      88.975256\n",
       "max      90.562551\n",
       "Name: points, dtype: float64"
      ]
     },
     "execution_count": 12,
     "metadata": {},
     "output_type": "execute_result"
    }
   ],
   "source": [
    "reviewer_mean_ratings.describe()"
   ]
  },
  {
   "cell_type": "markdown",
   "id": "80267ce9",
   "metadata": {
    "papermill": {
     "duration": 0.007961,
     "end_time": "2022-06-28T13:19:18.427441",
     "exception": false,
     "start_time": "2022-06-28T13:19:18.419480",
     "status": "completed"
    },
    "tags": []
   },
   "source": [
    "## 6.\n",
    "What combination of countries and varieties are most common? Create a `Series` whose index is a `MultiIndex`of `{country, variety}` pairs. For example, a pinot noir produced in the US should map to `{\"US\", \"Pinot Noir\"}`. Sort the values in the `Series` in descending order based on wine count."
   ]
  },
  {
   "cell_type": "code",
   "execution_count": 13,
   "id": "48924322",
   "metadata": {
    "execution": {
     "iopub.execute_input": "2022-06-28T13:19:18.446287Z",
     "iopub.status.busy": "2022-06-28T13:19:18.445879Z",
     "iopub.status.idle": "2022-06-28T13:19:18.491279Z",
     "shell.execute_reply": "2022-06-28T13:19:18.489986Z"
    },
    "papermill": {
     "duration": 0.058345,
     "end_time": "2022-06-28T13:19:18.494034",
     "exception": false,
     "start_time": "2022-06-28T13:19:18.435689",
     "status": "completed"
    },
    "tags": []
   },
   "outputs": [
    {
     "data": {
      "application/javascript": [
       "parent.postMessage({\"jupyterEvent\": \"custom.exercise_interaction\", \"data\": {\"outcomeType\": 1, \"valueTowardsCompletion\": 0.16666666666666666, \"interactionType\": 1, \"questionType\": 1, \"questionId\": \"6_GroupbyCountryVariety\", \"learnToolsVersion\": \"0.3.4\", \"failureMessage\": \"\", \"exceptionClass\": \"\", \"trace\": \"\"}}, \"*\")"
      ],
      "text/plain": [
       "<IPython.core.display.Javascript object>"
      ]
     },
     "metadata": {},
     "output_type": "display_data"
    },
    {
     "data": {
      "text/markdown": [
       "<span style=\"color:#33cc33\">Correct</span>"
      ],
      "text/plain": [
       "Correct"
      ]
     },
     "metadata": {},
     "output_type": "display_data"
    }
   ],
   "source": [
    "country_variety_counts = reviews.groupby(['country', 'variety']).size().sort_values(ascending=False)\n",
    "# Check your answer\n",
    "q6.check()"
   ]
  },
  {
   "cell_type": "code",
   "execution_count": 14,
   "id": "5c38f42c",
   "metadata": {
    "execution": {
     "iopub.execute_input": "2022-06-28T13:19:18.513416Z",
     "iopub.status.busy": "2022-06-28T13:19:18.512955Z",
     "iopub.status.idle": "2022-06-28T13:19:18.518224Z",
     "shell.execute_reply": "2022-06-28T13:19:18.516845Z"
    },
    "papermill": {
     "duration": 0.018133,
     "end_time": "2022-06-28T13:19:18.520826",
     "exception": false,
     "start_time": "2022-06-28T13:19:18.502693",
     "status": "completed"
    },
    "tags": []
   },
   "outputs": [],
   "source": [
    "#q6.hint()\n",
    "#q6.solution()"
   ]
  },
  {
   "cell_type": "markdown",
   "id": "cd4a1221",
   "metadata": {
    "papermill": {
     "duration": 0.008295,
     "end_time": "2022-06-28T13:19:18.537961",
     "exception": false,
     "start_time": "2022-06-28T13:19:18.529666",
     "status": "completed"
    },
    "tags": []
   },
   "source": [
    "# Keep going\n",
    "\n",
    "Move on to the [**data types and missing data**](https://www.kaggle.com/residentmario/data-types-and-missing-values)."
   ]
  },
  {
   "cell_type": "markdown",
   "id": "5bb907f2",
   "metadata": {
    "papermill": {
     "duration": 0.007941,
     "end_time": "2022-06-28T13:19:18.554668",
     "exception": false,
     "start_time": "2022-06-28T13:19:18.546727",
     "status": "completed"
    },
    "tags": []
   },
   "source": [
    "---\n",
    "\n",
    "\n",
    "\n",
    "\n",
    "*Have questions or comments? Visit the [course discussion forum](https://www.kaggle.com/learn/pandas/discussion) to chat with other learners.*"
   ]
  }
 ],
 "metadata": {
  "kernelspec": {
   "display_name": "Python 3",
   "language": "python",
   "name": "python3"
  },
  "language_info": {
   "codemirror_mode": {
    "name": "ipython",
    "version": 3
   },
   "file_extension": ".py",
   "mimetype": "text/x-python",
   "name": "python",
   "nbconvert_exporter": "python",
   "pygments_lexer": "ipython3",
   "version": "3.7.12"
  },
  "papermill": {
   "default_parameters": {},
   "duration": 14.187337,
   "end_time": "2022-06-28T13:19:19.185219",
   "environment_variables": {},
   "exception": null,
   "input_path": "__notebook__.ipynb",
   "output_path": "__notebook__.ipynb",
   "parameters": {},
   "start_time": "2022-06-28T13:19:04.997882",
   "version": "2.3.4"
  }
 },
 "nbformat": 4,
 "nbformat_minor": 5
}
