{
 "cells": [
  {
   "cell_type": "markdown",
   "id": "35d4b90e",
   "metadata": {
    "papermill": {
     "duration": 0.007482,
     "end_time": "2022-06-28T13:43:04.261622",
     "exception": false,
     "start_time": "2022-06-28T13:43:04.254140",
     "status": "completed"
    },
    "tags": []
   },
   "source": [
    "**This notebook is an exercise in the [Pandas](https://www.kaggle.com/learn/pandas) course.  You can reference the tutorial at [this link](https://www.kaggle.com/residentmario/renaming-and-combining).**\n",
    "\n",
    "---\n"
   ]
  },
  {
   "cell_type": "markdown",
   "id": "99d66791",
   "metadata": {
    "papermill": {
     "duration": 0.006222,
     "end_time": "2022-06-28T13:43:04.274579",
     "exception": false,
     "start_time": "2022-06-28T13:43:04.268357",
     "status": "completed"
    },
    "tags": []
   },
   "source": [
    "# Introduction\n",
    "\n",
    "Run the following cell to load your data and some utility functions."
   ]
  },
  {
   "cell_type": "code",
   "execution_count": 1,
   "id": "91a85d84",
   "metadata": {
    "execution": {
     "iopub.execute_input": "2022-06-28T13:43:04.289781Z",
     "iopub.status.busy": "2022-06-28T13:43:04.289131Z",
     "iopub.status.idle": "2022-06-28T13:43:08.449739Z",
     "shell.execute_reply": "2022-06-28T13:43:08.448342Z"
    },
    "papermill": {
     "duration": 4.171959,
     "end_time": "2022-06-28T13:43:08.453030",
     "exception": false,
     "start_time": "2022-06-28T13:43:04.281071",
     "status": "completed"
    },
    "tags": []
   },
   "outputs": [
    {
     "name": "stdout",
     "output_type": "stream",
     "text": [
      "Setup complete.\n"
     ]
    }
   ],
   "source": [
    "import pandas as pd\n",
    "\n",
    "reviews = pd.read_csv(\"../input/wine-reviews/winemag-data-130k-v2.csv\", index_col=0)\n",
    "\n",
    "from learntools.core import binder; binder.bind(globals())\n",
    "from learntools.pandas.renaming_and_combining import *\n",
    "print(\"Setup complete.\")"
   ]
  },
  {
   "cell_type": "markdown",
   "id": "14fc8d6b",
   "metadata": {
    "papermill": {
     "duration": 0.006104,
     "end_time": "2022-06-28T13:43:08.465759",
     "exception": false,
     "start_time": "2022-06-28T13:43:08.459655",
     "status": "completed"
    },
    "tags": []
   },
   "source": [
    "# Exercises\n",
    "\n",
    "View the first several lines of your data by running the cell below:"
   ]
  },
  {
   "cell_type": "code",
   "execution_count": 2,
   "id": "e0dca771",
   "metadata": {
    "execution": {
     "iopub.execute_input": "2022-06-28T13:43:08.481172Z",
     "iopub.status.busy": "2022-06-28T13:43:08.479846Z",
     "iopub.status.idle": "2022-06-28T13:43:08.508387Z",
     "shell.execute_reply": "2022-06-28T13:43:08.506943Z"
    },
    "papermill": {
     "duration": 0.038918,
     "end_time": "2022-06-28T13:43:08.511084",
     "exception": false,
     "start_time": "2022-06-28T13:43:08.472166",
     "status": "completed"
    },
    "tags": []
   },
   "outputs": [
    {
     "data": {
      "text/html": [
       "<div>\n",
       "<style scoped>\n",
       "    .dataframe tbody tr th:only-of-type {\n",
       "        vertical-align: middle;\n",
       "    }\n",
       "\n",
       "    .dataframe tbody tr th {\n",
       "        vertical-align: top;\n",
       "    }\n",
       "\n",
       "    .dataframe thead th {\n",
       "        text-align: right;\n",
       "    }\n",
       "</style>\n",
       "<table border=\"1\" class=\"dataframe\">\n",
       "  <thead>\n",
       "    <tr style=\"text-align: right;\">\n",
       "      <th></th>\n",
       "      <th>country</th>\n",
       "      <th>description</th>\n",
       "      <th>designation</th>\n",
       "      <th>points</th>\n",
       "      <th>price</th>\n",
       "      <th>province</th>\n",
       "      <th>region_1</th>\n",
       "      <th>region_2</th>\n",
       "      <th>taster_name</th>\n",
       "      <th>taster_twitter_handle</th>\n",
       "      <th>title</th>\n",
       "      <th>variety</th>\n",
       "      <th>winery</th>\n",
       "    </tr>\n",
       "  </thead>\n",
       "  <tbody>\n",
       "    <tr>\n",
       "      <th>0</th>\n",
       "      <td>Italy</td>\n",
       "      <td>Aromas include tropical fruit, broom, brimston...</td>\n",
       "      <td>Vulkà Bianco</td>\n",
       "      <td>87</td>\n",
       "      <td>NaN</td>\n",
       "      <td>Sicily &amp; Sardinia</td>\n",
       "      <td>Etna</td>\n",
       "      <td>NaN</td>\n",
       "      <td>Kerin O’Keefe</td>\n",
       "      <td>@kerinokeefe</td>\n",
       "      <td>Nicosia 2013 Vulkà Bianco  (Etna)</td>\n",
       "      <td>White Blend</td>\n",
       "      <td>Nicosia</td>\n",
       "    </tr>\n",
       "    <tr>\n",
       "      <th>1</th>\n",
       "      <td>Portugal</td>\n",
       "      <td>This is ripe and fruity, a wine that is smooth...</td>\n",
       "      <td>Avidagos</td>\n",
       "      <td>87</td>\n",
       "      <td>15.0</td>\n",
       "      <td>Douro</td>\n",
       "      <td>NaN</td>\n",
       "      <td>NaN</td>\n",
       "      <td>Roger Voss</td>\n",
       "      <td>@vossroger</td>\n",
       "      <td>Quinta dos Avidagos 2011 Avidagos Red (Douro)</td>\n",
       "      <td>Portuguese Red</td>\n",
       "      <td>Quinta dos Avidagos</td>\n",
       "    </tr>\n",
       "    <tr>\n",
       "      <th>2</th>\n",
       "      <td>US</td>\n",
       "      <td>Tart and snappy, the flavors of lime flesh and...</td>\n",
       "      <td>NaN</td>\n",
       "      <td>87</td>\n",
       "      <td>14.0</td>\n",
       "      <td>Oregon</td>\n",
       "      <td>Willamette Valley</td>\n",
       "      <td>Willamette Valley</td>\n",
       "      <td>Paul Gregutt</td>\n",
       "      <td>@paulgwine</td>\n",
       "      <td>Rainstorm 2013 Pinot Gris (Willamette Valley)</td>\n",
       "      <td>Pinot Gris</td>\n",
       "      <td>Rainstorm</td>\n",
       "    </tr>\n",
       "    <tr>\n",
       "      <th>3</th>\n",
       "      <td>US</td>\n",
       "      <td>Pineapple rind, lemon pith and orange blossom ...</td>\n",
       "      <td>Reserve Late Harvest</td>\n",
       "      <td>87</td>\n",
       "      <td>13.0</td>\n",
       "      <td>Michigan</td>\n",
       "      <td>Lake Michigan Shore</td>\n",
       "      <td>NaN</td>\n",
       "      <td>Alexander Peartree</td>\n",
       "      <td>NaN</td>\n",
       "      <td>St. Julian 2013 Reserve Late Harvest Riesling ...</td>\n",
       "      <td>Riesling</td>\n",
       "      <td>St. Julian</td>\n",
       "    </tr>\n",
       "    <tr>\n",
       "      <th>4</th>\n",
       "      <td>US</td>\n",
       "      <td>Much like the regular bottling from 2012, this...</td>\n",
       "      <td>Vintner's Reserve Wild Child Block</td>\n",
       "      <td>87</td>\n",
       "      <td>65.0</td>\n",
       "      <td>Oregon</td>\n",
       "      <td>Willamette Valley</td>\n",
       "      <td>Willamette Valley</td>\n",
       "      <td>Paul Gregutt</td>\n",
       "      <td>@paulgwine</td>\n",
       "      <td>Sweet Cheeks 2012 Vintner's Reserve Wild Child...</td>\n",
       "      <td>Pinot Noir</td>\n",
       "      <td>Sweet Cheeks</td>\n",
       "    </tr>\n",
       "  </tbody>\n",
       "</table>\n",
       "</div>"
      ],
      "text/plain": [
       "    country                                        description  \\\n",
       "0     Italy  Aromas include tropical fruit, broom, brimston...   \n",
       "1  Portugal  This is ripe and fruity, a wine that is smooth...   \n",
       "2        US  Tart and snappy, the flavors of lime flesh and...   \n",
       "3        US  Pineapple rind, lemon pith and orange blossom ...   \n",
       "4        US  Much like the regular bottling from 2012, this...   \n",
       "\n",
       "                          designation  points  price           province  \\\n",
       "0                        Vulkà Bianco      87    NaN  Sicily & Sardinia   \n",
       "1                            Avidagos      87   15.0              Douro   \n",
       "2                                 NaN      87   14.0             Oregon   \n",
       "3                Reserve Late Harvest      87   13.0           Michigan   \n",
       "4  Vintner's Reserve Wild Child Block      87   65.0             Oregon   \n",
       "\n",
       "              region_1           region_2         taster_name  \\\n",
       "0                 Etna                NaN       Kerin O’Keefe   \n",
       "1                  NaN                NaN          Roger Voss   \n",
       "2    Willamette Valley  Willamette Valley        Paul Gregutt   \n",
       "3  Lake Michigan Shore                NaN  Alexander Peartree   \n",
       "4    Willamette Valley  Willamette Valley        Paul Gregutt   \n",
       "\n",
       "  taster_twitter_handle                                              title  \\\n",
       "0          @kerinokeefe                  Nicosia 2013 Vulkà Bianco  (Etna)   \n",
       "1            @vossroger      Quinta dos Avidagos 2011 Avidagos Red (Douro)   \n",
       "2           @paulgwine       Rainstorm 2013 Pinot Gris (Willamette Valley)   \n",
       "3                   NaN  St. Julian 2013 Reserve Late Harvest Riesling ...   \n",
       "4           @paulgwine   Sweet Cheeks 2012 Vintner's Reserve Wild Child...   \n",
       "\n",
       "          variety               winery  \n",
       "0     White Blend              Nicosia  \n",
       "1  Portuguese Red  Quinta dos Avidagos  \n",
       "2      Pinot Gris            Rainstorm  \n",
       "3        Riesling           St. Julian  \n",
       "4      Pinot Noir         Sweet Cheeks  "
      ]
     },
     "execution_count": 2,
     "metadata": {},
     "output_type": "execute_result"
    }
   ],
   "source": [
    "reviews.head()"
   ]
  },
  {
   "cell_type": "markdown",
   "id": "61ce01f4",
   "metadata": {
    "papermill": {
     "duration": 0.00632,
     "end_time": "2022-06-28T13:43:08.524179",
     "exception": false,
     "start_time": "2022-06-28T13:43:08.517859",
     "status": "completed"
    },
    "tags": []
   },
   "source": [
    "## 1.\n",
    "`region_1` and `region_2` are pretty uninformative names for locale columns in the dataset. Create a copy of `reviews` with these columns renamed to `region` and `locale`, respectively."
   ]
  },
  {
   "cell_type": "code",
   "execution_count": 3,
   "id": "32bd9a78",
   "metadata": {
    "execution": {
     "iopub.execute_input": "2022-06-28T13:43:08.539952Z",
     "iopub.status.busy": "2022-06-28T13:43:08.539175Z",
     "iopub.status.idle": "2022-06-28T13:43:08.574561Z",
     "shell.execute_reply": "2022-06-28T13:43:08.573132Z"
    },
    "papermill": {
     "duration": 0.04629,
     "end_time": "2022-06-28T13:43:08.577256",
     "exception": false,
     "start_time": "2022-06-28T13:43:08.530966",
     "status": "completed"
    },
    "tags": []
   },
   "outputs": [
    {
     "data": {
      "application/javascript": [
       "parent.postMessage({\"jupyterEvent\": \"custom.exercise_interaction\", \"data\": {\"outcomeType\": 1, \"valueTowardsCompletion\": 0.25, \"interactionType\": 1, \"questionType\": 1, \"questionId\": \"1_RenameCols\", \"learnToolsVersion\": \"0.3.4\", \"failureMessage\": \"\", \"exceptionClass\": \"\", \"trace\": \"\"}}, \"*\")"
      ],
      "text/plain": [
       "<IPython.core.display.Javascript object>"
      ]
     },
     "metadata": {},
     "output_type": "display_data"
    },
    {
     "data": {
      "text/markdown": [
       "<span style=\"color:#33cc33\">Correct</span>"
      ],
      "text/plain": [
       "Correct"
      ]
     },
     "metadata": {},
     "output_type": "display_data"
    }
   ],
   "source": [
    "# Your code here\n",
    "renamed = reviews.rename(columns=dict(region_1='region', region_2='locale'))\n",
    "# Check your answer\n",
    "q1.check()"
   ]
  },
  {
   "cell_type": "code",
   "execution_count": 4,
   "id": "07125fa5",
   "metadata": {
    "execution": {
     "iopub.execute_input": "2022-06-28T13:43:08.593502Z",
     "iopub.status.busy": "2022-06-28T13:43:08.593099Z",
     "iopub.status.idle": "2022-06-28T13:43:08.598232Z",
     "shell.execute_reply": "2022-06-28T13:43:08.596854Z"
    },
    "papermill": {
     "duration": 0.016262,
     "end_time": "2022-06-28T13:43:08.600861",
     "exception": false,
     "start_time": "2022-06-28T13:43:08.584599",
     "status": "completed"
    },
    "tags": []
   },
   "outputs": [],
   "source": [
    "#q1.hint()\n",
    "#q1.solution()"
   ]
  },
  {
   "cell_type": "markdown",
   "id": "67232bb8",
   "metadata": {
    "papermill": {
     "duration": 0.006744,
     "end_time": "2022-06-28T13:43:08.614697",
     "exception": false,
     "start_time": "2022-06-28T13:43:08.607953",
     "status": "completed"
    },
    "tags": []
   },
   "source": [
    "## 2.\n",
    "Set the index name in the dataset to `wines`."
   ]
  },
  {
   "cell_type": "code",
   "execution_count": 5,
   "id": "1215f299",
   "metadata": {
    "execution": {
     "iopub.execute_input": "2022-06-28T13:43:08.630891Z",
     "iopub.status.busy": "2022-06-28T13:43:08.630121Z",
     "iopub.status.idle": "2022-06-28T13:43:08.664942Z",
     "shell.execute_reply": "2022-06-28T13:43:08.663542Z"
    },
    "papermill": {
     "duration": 0.046422,
     "end_time": "2022-06-28T13:43:08.668127",
     "exception": false,
     "start_time": "2022-06-28T13:43:08.621705",
     "status": "completed"
    },
    "tags": []
   },
   "outputs": [
    {
     "data": {
      "application/javascript": [
       "parent.postMessage({\"jupyterEvent\": \"custom.exercise_interaction\", \"data\": {\"outcomeType\": 1, \"valueTowardsCompletion\": 0.25, \"interactionType\": 1, \"questionType\": 1, \"questionId\": \"2_RenameIndex\", \"learnToolsVersion\": \"0.3.4\", \"failureMessage\": \"\", \"exceptionClass\": \"\", \"trace\": \"\"}}, \"*\")"
      ],
      "text/plain": [
       "<IPython.core.display.Javascript object>"
      ]
     },
     "metadata": {},
     "output_type": "display_data"
    },
    {
     "data": {
      "text/markdown": [
       "<span style=\"color:#33cc33\">Correct</span>"
      ],
      "text/plain": [
       "Correct"
      ]
     },
     "metadata": {},
     "output_type": "display_data"
    }
   ],
   "source": [
    "reindexed = reviews.rename_axis('wines', axis='rows')\n",
    "\n",
    "# Check your answer\n",
    "q2.check()"
   ]
  },
  {
   "cell_type": "code",
   "execution_count": 6,
   "id": "98244ef9",
   "metadata": {
    "execution": {
     "iopub.execute_input": "2022-06-28T13:43:08.685454Z",
     "iopub.status.busy": "2022-06-28T13:43:08.684660Z",
     "iopub.status.idle": "2022-06-28T13:43:08.690021Z",
     "shell.execute_reply": "2022-06-28T13:43:08.688624Z"
    },
    "papermill": {
     "duration": 0.017244,
     "end_time": "2022-06-28T13:43:08.692777",
     "exception": false,
     "start_time": "2022-06-28T13:43:08.675533",
     "status": "completed"
    },
    "tags": []
   },
   "outputs": [],
   "source": [
    "#q2.hint()\n",
    "#q2.solution()"
   ]
  },
  {
   "cell_type": "markdown",
   "id": "406da7d7",
   "metadata": {
    "papermill": {
     "duration": 0.00722,
     "end_time": "2022-06-28T13:43:08.707955",
     "exception": false,
     "start_time": "2022-06-28T13:43:08.700735",
     "status": "completed"
    },
    "tags": []
   },
   "source": [
    "## 3.\n",
    "The [Things on Reddit](https://www.kaggle.com/residentmario/things-on-reddit/data) dataset includes product links from a selection of top-ranked forums (\"subreddits\") on reddit.com. Run the cell below to load a dataframe of products mentioned on the */r/gaming* subreddit and another dataframe for products mentioned on the *r//movies* subreddit."
   ]
  },
  {
   "cell_type": "code",
   "execution_count": 7,
   "id": "fc2d28da",
   "metadata": {
    "execution": {
     "iopub.execute_input": "2022-06-28T13:43:08.724326Z",
     "iopub.status.busy": "2022-06-28T13:43:08.723929Z",
     "iopub.status.idle": "2022-06-28T13:43:08.740424Z",
     "shell.execute_reply": "2022-06-28T13:43:08.739208Z"
    },
    "papermill": {
     "duration": 0.028072,
     "end_time": "2022-06-28T13:43:08.743364",
     "exception": false,
     "start_time": "2022-06-28T13:43:08.715292",
     "status": "completed"
    },
    "tags": []
   },
   "outputs": [],
   "source": [
    "gaming_products = pd.read_csv(\"../input/things-on-reddit/top-things/top-things/reddits/g/gaming.csv\")\n",
    "gaming_products['subreddit'] = \"r/gaming\"\n",
    "movie_products = pd.read_csv(\"../input/things-on-reddit/top-things/top-things/reddits/m/movies.csv\")\n",
    "movie_products['subreddit'] = \"r/movies\""
   ]
  },
  {
   "cell_type": "markdown",
   "id": "eac5d308",
   "metadata": {
    "papermill": {
     "duration": 0.007205,
     "end_time": "2022-06-28T13:43:08.757983",
     "exception": false,
     "start_time": "2022-06-28T13:43:08.750778",
     "status": "completed"
    },
    "tags": []
   },
   "source": [
    "Create a `DataFrame` of products mentioned on *either* subreddit."
   ]
  },
  {
   "cell_type": "code",
   "execution_count": 8,
   "id": "cd07f49e",
   "metadata": {
    "execution": {
     "iopub.execute_input": "2022-06-28T13:43:08.774564Z",
     "iopub.status.busy": "2022-06-28T13:43:08.774171Z",
     "iopub.status.idle": "2022-06-28T13:43:08.790403Z",
     "shell.execute_reply": "2022-06-28T13:43:08.789456Z"
    },
    "papermill": {
     "duration": 0.027146,
     "end_time": "2022-06-28T13:43:08.792658",
     "exception": false,
     "start_time": "2022-06-28T13:43:08.765512",
     "status": "completed"
    },
    "tags": []
   },
   "outputs": [
    {
     "data": {
      "application/javascript": [
       "parent.postMessage({\"jupyterEvent\": \"custom.exercise_interaction\", \"data\": {\"outcomeType\": 1, \"valueTowardsCompletion\": 0.25, \"interactionType\": 1, \"questionType\": 2, \"questionId\": \"3_ConcatReddit\", \"learnToolsVersion\": \"0.3.4\", \"failureMessage\": \"\", \"exceptionClass\": \"\", \"trace\": \"\"}}, \"*\")"
      ],
      "text/plain": [
       "<IPython.core.display.Javascript object>"
      ]
     },
     "metadata": {},
     "output_type": "display_data"
    },
    {
     "data": {
      "text/markdown": [
       "<span style=\"color:#33cc33\">Correct</span>"
      ],
      "text/plain": [
       "Correct"
      ]
     },
     "metadata": {},
     "output_type": "display_data"
    }
   ],
   "source": [
    "combined_products = pd.concat([gaming_products, movie_products])\n",
    "\n",
    "# Check your answer\n",
    "q3.check()"
   ]
  },
  {
   "cell_type": "code",
   "execution_count": 9,
   "id": "e577dd2e",
   "metadata": {
    "execution": {
     "iopub.execute_input": "2022-06-28T13:43:08.810458Z",
     "iopub.status.busy": "2022-06-28T13:43:08.810039Z",
     "iopub.status.idle": "2022-06-28T13:43:08.814031Z",
     "shell.execute_reply": "2022-06-28T13:43:08.813119Z"
    },
    "papermill": {
     "duration": 0.015642,
     "end_time": "2022-06-28T13:43:08.816271",
     "exception": false,
     "start_time": "2022-06-28T13:43:08.800629",
     "status": "completed"
    },
    "tags": []
   },
   "outputs": [],
   "source": [
    "#q3.hint()\n",
    "#q3.solution()"
   ]
  },
  {
   "cell_type": "markdown",
   "id": "858a8a26",
   "metadata": {
    "papermill": {
     "duration": 0.007354,
     "end_time": "2022-06-28T13:43:08.831844",
     "exception": false,
     "start_time": "2022-06-28T13:43:08.824490",
     "status": "completed"
    },
    "tags": []
   },
   "source": [
    "## 4.\n",
    "The [Powerlifting Database](https://www.kaggle.com/open-powerlifting/powerlifting-database) dataset on Kaggle includes one CSV table for powerlifting meets and a separate one for powerlifting competitors. Run the cell below to load these datasets into dataframes:"
   ]
  },
  {
   "cell_type": "code",
   "execution_count": 10,
   "id": "eb40fefd",
   "metadata": {
    "execution": {
     "iopub.execute_input": "2022-06-28T13:43:08.849882Z",
     "iopub.status.busy": "2022-06-28T13:43:08.849062Z",
     "iopub.status.idle": "2022-06-28T13:43:09.748801Z",
     "shell.execute_reply": "2022-06-28T13:43:09.747101Z"
    },
    "papermill": {
     "duration": 0.912332,
     "end_time": "2022-06-28T13:43:09.751889",
     "exception": false,
     "start_time": "2022-06-28T13:43:08.839557",
     "status": "completed"
    },
    "tags": []
   },
   "outputs": [],
   "source": [
    "powerlifting_meets = pd.read_csv(\"../input/powerlifting-database/meets.csv\")\n",
    "powerlifting_competitors = pd.read_csv(\"../input/powerlifting-database/openpowerlifting.csv\")"
   ]
  },
  {
   "cell_type": "markdown",
   "id": "65283cbf",
   "metadata": {
    "papermill": {
     "duration": 0.007776,
     "end_time": "2022-06-28T13:43:09.767734",
     "exception": false,
     "start_time": "2022-06-28T13:43:09.759958",
     "status": "completed"
    },
    "tags": []
   },
   "source": [
    "Both tables include references to a `MeetID`, a unique key for each meet (competition) included in the database. Using this, generate a dataset combining the two tables into one."
   ]
  },
  {
   "cell_type": "code",
   "execution_count": 11,
   "id": "01aa572a",
   "metadata": {
    "execution": {
     "iopub.execute_input": "2022-06-28T13:43:09.786153Z",
     "iopub.status.busy": "2022-06-28T13:43:09.784963Z",
     "iopub.status.idle": "2022-06-28T13:43:10.796799Z",
     "shell.execute_reply": "2022-06-28T13:43:10.795568Z"
    },
    "papermill": {
     "duration": 1.023876,
     "end_time": "2022-06-28T13:43:10.799540",
     "exception": false,
     "start_time": "2022-06-28T13:43:09.775664",
     "status": "completed"
    },
    "tags": []
   },
   "outputs": [
    {
     "data": {
      "application/javascript": [
       "parent.postMessage({\"jupyterEvent\": \"custom.exercise_interaction\", \"data\": {\"outcomeType\": 1, \"valueTowardsCompletion\": 0.25, \"interactionType\": 1, \"questionType\": 2, \"questionId\": \"4_JoinLifting\", \"learnToolsVersion\": \"0.3.4\", \"failureMessage\": \"\", \"exceptionClass\": \"\", \"trace\": \"\"}}, \"*\")"
      ],
      "text/plain": [
       "<IPython.core.display.Javascript object>"
      ]
     },
     "metadata": {},
     "output_type": "display_data"
    },
    {
     "data": {
      "text/markdown": [
       "<span style=\"color:#33cc33\">Correct</span>"
      ],
      "text/plain": [
       "Correct"
      ]
     },
     "metadata": {},
     "output_type": "display_data"
    }
   ],
   "source": [
    "powerlifting_combined = powerlifting_meets.set_index(\"MeetID\").join(powerlifting_competitors.set_index(\"MeetID\"))\n",
    "# Check your answer\n",
    "q4.check()"
   ]
  },
  {
   "cell_type": "code",
   "execution_count": 12,
   "id": "1099af49",
   "metadata": {
    "execution": {
     "iopub.execute_input": "2022-06-28T13:43:10.817329Z",
     "iopub.status.busy": "2022-06-28T13:43:10.816931Z",
     "iopub.status.idle": "2022-06-28T13:43:10.822287Z",
     "shell.execute_reply": "2022-06-28T13:43:10.821033Z"
    },
    "papermill": {
     "duration": 0.017453,
     "end_time": "2022-06-28T13:43:10.824869",
     "exception": false,
     "start_time": "2022-06-28T13:43:10.807416",
     "status": "completed"
    },
    "tags": []
   },
   "outputs": [],
   "source": [
    "#q4.hint()\n",
    "#q4.solution()"
   ]
  },
  {
   "cell_type": "markdown",
   "id": "a8e8dd69",
   "metadata": {
    "papermill": {
     "duration": 0.007657,
     "end_time": "2022-06-28T13:43:10.840730",
     "exception": false,
     "start_time": "2022-06-28T13:43:10.833073",
     "status": "completed"
    },
    "tags": []
   },
   "source": [
    "# Congratulations!\n",
    "\n",
    "You've finished the Pandas micro-course.  Many data scientists feel efficiency with Pandas is the most useful and practical skill they have, because it allows you to progress quickly in any project you have.\n",
    "\n",
    "If you'd like to apply your new skills to examining geospatial data, you're encouraged to check out our **[Geospatial Analysis](https://www.kaggle.com/learn/geospatial-analysis)** micro-course.\n",
    "\n",
    "You can also take advantage of your Pandas skills by entering a **[Kaggle Competition](https://www.kaggle.com/competitions)** or by answering a question you find interesting using **[Kaggle Datasets](https://www.kaggle.com/datasets)**."
   ]
  },
  {
   "cell_type": "markdown",
   "id": "59ce8df8",
   "metadata": {
    "papermill": {
     "duration": 0.007717,
     "end_time": "2022-06-28T13:43:10.856606",
     "exception": false,
     "start_time": "2022-06-28T13:43:10.848889",
     "status": "completed"
    },
    "tags": []
   },
   "source": [
    "---\n",
    "\n",
    "\n",
    "\n",
    "\n",
    "*Have questions or comments? Visit the [course discussion forum](https://www.kaggle.com/learn/pandas/discussion) to chat with other learners.*"
   ]
  }
 ],
 "metadata": {
  "kernelspec": {
   "display_name": "Python 3",
   "language": "python",
   "name": "python3"
  },
  "language_info": {
   "codemirror_mode": {
    "name": "ipython",
    "version": 3
   },
   "file_extension": ".py",
   "mimetype": "text/x-python",
   "name": "python",
   "nbconvert_exporter": "python",
   "pygments_lexer": "ipython3",
   "version": "3.7.12"
  },
  "papermill": {
   "default_parameters": {},
   "duration": 18.940124,
   "end_time": "2022-06-28T13:43:11.687909",
   "environment_variables": {},
   "exception": null,
   "input_path": "__notebook__.ipynb",
   "output_path": "__notebook__.ipynb",
   "parameters": {},
   "start_time": "2022-06-28T13:42:52.747785",
   "version": "2.3.4"
  }
 },
 "nbformat": 4,
 "nbformat_minor": 5
}
