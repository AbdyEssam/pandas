{
 "cells": [
  {
   "cell_type": "markdown",
   "id": "f73b9002",
   "metadata": {
    "papermill": {
     "duration": 0.008332,
     "end_time": "2022-06-27T00:03:25.607714",
     "exception": false,
     "start_time": "2022-06-27T00:03:25.599382",
     "status": "completed"
    },
    "tags": []
   },
   "source": [
    "**This notebook is an exercise in the [Pandas](https://www.kaggle.com/learn/pandas) course.  You can reference the tutorial at [this link](https://www.kaggle.com/residentmario/summary-functions-and-maps).**\n",
    "\n",
    "---\n"
   ]
  },
  {
   "cell_type": "markdown",
   "id": "10c55d47",
   "metadata": {
    "papermill": {
     "duration": 0.00692,
     "end_time": "2022-06-27T00:03:25.621634",
     "exception": false,
     "start_time": "2022-06-27T00:03:25.614714",
     "status": "completed"
    },
    "tags": []
   },
   "source": [
    "# Introduction\n",
    "\n",
    "Now you are ready to get a deeper understanding of your data.\n",
    "\n",
    "Run the following cell to load your data and some utility functions (including code to check your answers)."
   ]
  },
  {
   "cell_type": "code",
   "execution_count": 1,
   "id": "5feef434",
   "metadata": {
    "execution": {
     "iopub.execute_input": "2022-06-27T00:03:25.638185Z",
     "iopub.status.busy": "2022-06-27T00:03:25.637273Z",
     "iopub.status.idle": "2022-06-27T00:03:33.639318Z",
     "shell.execute_reply": "2022-06-27T00:03:33.637948Z"
    },
    "papermill": {
     "duration": 8.013156,
     "end_time": "2022-06-27T00:03:33.641915",
     "exception": false,
     "start_time": "2022-06-27T00:03:25.628759",
     "status": "completed"
    },
    "tags": []
   },
   "outputs": [
    {
     "name": "stdout",
     "output_type": "stream",
     "text": [
      "Setup complete.\n"
     ]
    },
    {
     "data": {
      "text/html": [
       "<div>\n",
       "<style scoped>\n",
       "    .dataframe tbody tr th:only-of-type {\n",
       "        vertical-align: middle;\n",
       "    }\n",
       "\n",
       "    .dataframe tbody tr th {\n",
       "        vertical-align: top;\n",
       "    }\n",
       "\n",
       "    .dataframe thead th {\n",
       "        text-align: right;\n",
       "    }\n",
       "</style>\n",
       "<table border=\"1\" class=\"dataframe\">\n",
       "  <thead>\n",
       "    <tr style=\"text-align: right;\">\n",
       "      <th></th>\n",
       "      <th>country</th>\n",
       "      <th>description</th>\n",
       "      <th>designation</th>\n",
       "      <th>points</th>\n",
       "      <th>price</th>\n",
       "      <th>province</th>\n",
       "      <th>region_1</th>\n",
       "      <th>region_2</th>\n",
       "      <th>taster_name</th>\n",
       "      <th>taster_twitter_handle</th>\n",
       "      <th>title</th>\n",
       "      <th>variety</th>\n",
       "      <th>winery</th>\n",
       "    </tr>\n",
       "  </thead>\n",
       "  <tbody>\n",
       "    <tr>\n",
       "      <th>0</th>\n",
       "      <td>Italy</td>\n",
       "      <td>Aromas include tropical fruit, broom, brimston...</td>\n",
       "      <td>Vulkà Bianco</td>\n",
       "      <td>87</td>\n",
       "      <td>NaN</td>\n",
       "      <td>Sicily &amp; Sardinia</td>\n",
       "      <td>Etna</td>\n",
       "      <td>NaN</td>\n",
       "      <td>Kerin O’Keefe</td>\n",
       "      <td>@kerinokeefe</td>\n",
       "      <td>Nicosia 2013 Vulkà Bianco  (Etna)</td>\n",
       "      <td>White Blend</td>\n",
       "      <td>Nicosia</td>\n",
       "    </tr>\n",
       "    <tr>\n",
       "      <th>1</th>\n",
       "      <td>Portugal</td>\n",
       "      <td>This is ripe and fruity, a wine that is smooth...</td>\n",
       "      <td>Avidagos</td>\n",
       "      <td>87</td>\n",
       "      <td>15.0</td>\n",
       "      <td>Douro</td>\n",
       "      <td>NaN</td>\n",
       "      <td>NaN</td>\n",
       "      <td>Roger Voss</td>\n",
       "      <td>@vossroger</td>\n",
       "      <td>Quinta dos Avidagos 2011 Avidagos Red (Douro)</td>\n",
       "      <td>Portuguese Red</td>\n",
       "      <td>Quinta dos Avidagos</td>\n",
       "    </tr>\n",
       "    <tr>\n",
       "      <th>2</th>\n",
       "      <td>US</td>\n",
       "      <td>Tart and snappy, the flavors of lime flesh and...</td>\n",
       "      <td>NaN</td>\n",
       "      <td>87</td>\n",
       "      <td>14.0</td>\n",
       "      <td>Oregon</td>\n",
       "      <td>Willamette Valley</td>\n",
       "      <td>Willamette Valley</td>\n",
       "      <td>Paul Gregutt</td>\n",
       "      <td>@paulgwine</td>\n",
       "      <td>Rainstorm 2013 Pinot Gris (Willamette Valley)</td>\n",
       "      <td>Pinot Gris</td>\n",
       "      <td>Rainstorm</td>\n",
       "    </tr>\n",
       "    <tr>\n",
       "      <th>3</th>\n",
       "      <td>US</td>\n",
       "      <td>Pineapple rind, lemon pith and orange blossom ...</td>\n",
       "      <td>Reserve Late Harvest</td>\n",
       "      <td>87</td>\n",
       "      <td>13.0</td>\n",
       "      <td>Michigan</td>\n",
       "      <td>Lake Michigan Shore</td>\n",
       "      <td>NaN</td>\n",
       "      <td>Alexander Peartree</td>\n",
       "      <td>NaN</td>\n",
       "      <td>St. Julian 2013 Reserve Late Harvest Riesling ...</td>\n",
       "      <td>Riesling</td>\n",
       "      <td>St. Julian</td>\n",
       "    </tr>\n",
       "    <tr>\n",
       "      <th>4</th>\n",
       "      <td>US</td>\n",
       "      <td>Much like the regular bottling from 2012, this...</td>\n",
       "      <td>Vintner's Reserve Wild Child Block</td>\n",
       "      <td>87</td>\n",
       "      <td>65.0</td>\n",
       "      <td>Oregon</td>\n",
       "      <td>Willamette Valley</td>\n",
       "      <td>Willamette Valley</td>\n",
       "      <td>Paul Gregutt</td>\n",
       "      <td>@paulgwine</td>\n",
       "      <td>Sweet Cheeks 2012 Vintner's Reserve Wild Child...</td>\n",
       "      <td>Pinot Noir</td>\n",
       "      <td>Sweet Cheeks</td>\n",
       "    </tr>\n",
       "  </tbody>\n",
       "</table>\n",
       "</div>"
      ],
      "text/plain": [
       "    country                                        description  \\\n",
       "0     Italy  Aromas include tropical fruit, broom, brimston...   \n",
       "1  Portugal  This is ripe and fruity, a wine that is smooth...   \n",
       "2        US  Tart and snappy, the flavors of lime flesh and...   \n",
       "3        US  Pineapple rind, lemon pith and orange blossom ...   \n",
       "4        US  Much like the regular bottling from 2012, this...   \n",
       "\n",
       "                          designation  points  price           province  \\\n",
       "0                        Vulkà Bianco      87    NaN  Sicily & Sardinia   \n",
       "1                            Avidagos      87   15.0              Douro   \n",
       "2                                 NaN      87   14.0             Oregon   \n",
       "3                Reserve Late Harvest      87   13.0           Michigan   \n",
       "4  Vintner's Reserve Wild Child Block      87   65.0             Oregon   \n",
       "\n",
       "              region_1           region_2         taster_name  \\\n",
       "0                 Etna                NaN       Kerin O’Keefe   \n",
       "1                  NaN                NaN          Roger Voss   \n",
       "2    Willamette Valley  Willamette Valley        Paul Gregutt   \n",
       "3  Lake Michigan Shore                NaN  Alexander Peartree   \n",
       "4    Willamette Valley  Willamette Valley        Paul Gregutt   \n",
       "\n",
       "  taster_twitter_handle                                              title  \\\n",
       "0          @kerinokeefe                  Nicosia 2013 Vulkà Bianco  (Etna)   \n",
       "1            @vossroger      Quinta dos Avidagos 2011 Avidagos Red (Douro)   \n",
       "2           @paulgwine       Rainstorm 2013 Pinot Gris (Willamette Valley)   \n",
       "3                   NaN  St. Julian 2013 Reserve Late Harvest Riesling ...   \n",
       "4           @paulgwine   Sweet Cheeks 2012 Vintner's Reserve Wild Child...   \n",
       "\n",
       "          variety               winery  \n",
       "0     White Blend              Nicosia  \n",
       "1  Portuguese Red  Quinta dos Avidagos  \n",
       "2      Pinot Gris            Rainstorm  \n",
       "3        Riesling           St. Julian  \n",
       "4      Pinot Noir         Sweet Cheeks  "
      ]
     },
     "execution_count": 1,
     "metadata": {},
     "output_type": "execute_result"
    }
   ],
   "source": [
    "import pandas as pd\n",
    "pd.set_option(\"display.max_rows\", 5)\n",
    "reviews = pd.read_csv(\"../input/wine-reviews/winemag-data-130k-v2.csv\", index_col=0)\n",
    "\n",
    "from learntools.core import binder; binder.bind(globals())\n",
    "from learntools.pandas.summary_functions_and_maps import *\n",
    "print(\"Setup complete.\")\n",
    "\n",
    "reviews.head()"
   ]
  },
  {
   "cell_type": "markdown",
   "id": "61c38d3e",
   "metadata": {
    "papermill": {
     "duration": 0.006841,
     "end_time": "2022-06-27T00:03:33.656155",
     "exception": false,
     "start_time": "2022-06-27T00:03:33.649314",
     "status": "completed"
    },
    "tags": []
   },
   "source": [
    "# Exercises"
   ]
  },
  {
   "cell_type": "markdown",
   "id": "1143d1b4",
   "metadata": {
    "papermill": {
     "duration": 0.007086,
     "end_time": "2022-06-27T00:03:33.670628",
     "exception": false,
     "start_time": "2022-06-27T00:03:33.663542",
     "status": "completed"
    },
    "tags": []
   },
   "source": [
    "## 1.\n",
    "\n",
    "What is the median of the `points` column in the `reviews` DataFrame?"
   ]
  },
  {
   "cell_type": "code",
   "execution_count": 2,
   "id": "e84b1de5",
   "metadata": {
    "execution": {
     "iopub.execute_input": "2022-06-27T00:03:33.686977Z",
     "iopub.status.busy": "2022-06-27T00:03:33.686560Z",
     "iopub.status.idle": "2022-06-27T00:03:33.698205Z",
     "shell.execute_reply": "2022-06-27T00:03:33.697030Z"
    },
    "papermill": {
     "duration": 0.022518,
     "end_time": "2022-06-27T00:03:33.700493",
     "exception": false,
     "start_time": "2022-06-27T00:03:33.677975",
     "status": "completed"
    },
    "tags": []
   },
   "outputs": [
    {
     "data": {
      "application/javascript": [
       "parent.postMessage({\"jupyterEvent\": \"custom.exercise_interaction\", \"data\": {\"outcomeType\": 1, \"valueTowardsCompletion\": 0.14285714285714285, \"interactionType\": 1, \"questionType\": 1, \"questionId\": \"1_MedianPoints\", \"learnToolsVersion\": \"0.3.4\", \"failureMessage\": \"\", \"exceptionClass\": \"\", \"trace\": \"\"}}, \"*\")"
      ],
      "text/plain": [
       "<IPython.core.display.Javascript object>"
      ]
     },
     "metadata": {},
     "output_type": "display_data"
    },
    {
     "data": {
      "text/markdown": [
       "<span style=\"color:#33cc33\">Correct</span>"
      ],
      "text/plain": [
       "Correct"
      ]
     },
     "metadata": {},
     "output_type": "display_data"
    }
   ],
   "source": [
    "median_points = reviews.points.median()\n",
    "\n",
    "# Check your answer\n",
    "q1.check()"
   ]
  },
  {
   "cell_type": "code",
   "execution_count": 3,
   "id": "1599e904",
   "metadata": {
    "execution": {
     "iopub.execute_input": "2022-06-27T00:03:33.717653Z",
     "iopub.status.busy": "2022-06-27T00:03:33.716840Z",
     "iopub.status.idle": "2022-06-27T00:03:33.721374Z",
     "shell.execute_reply": "2022-06-27T00:03:33.720543Z"
    },
    "papermill": {
     "duration": 0.015574,
     "end_time": "2022-06-27T00:03:33.723574",
     "exception": false,
     "start_time": "2022-06-27T00:03:33.708000",
     "status": "completed"
    },
    "tags": []
   },
   "outputs": [],
   "source": [
    "#q1.hint()\n",
    "#q1.solution()"
   ]
  },
  {
   "cell_type": "markdown",
   "id": "faa257e7",
   "metadata": {
    "papermill": {
     "duration": 0.007247,
     "end_time": "2022-06-27T00:03:33.738431",
     "exception": false,
     "start_time": "2022-06-27T00:03:33.731184",
     "status": "completed"
    },
    "tags": []
   },
   "source": [
    "## 2. \n",
    "What countries are represented in the dataset? (Your answer should not include any duplicates.)"
   ]
  },
  {
   "cell_type": "code",
   "execution_count": 4,
   "id": "0373ca8d",
   "metadata": {
    "execution": {
     "iopub.execute_input": "2022-06-27T00:03:33.755747Z",
     "iopub.status.busy": "2022-06-27T00:03:33.754964Z",
     "iopub.status.idle": "2022-06-27T00:03:33.776922Z",
     "shell.execute_reply": "2022-06-27T00:03:33.776065Z"
    },
    "papermill": {
     "duration": 0.033111,
     "end_time": "2022-06-27T00:03:33.779096",
     "exception": false,
     "start_time": "2022-06-27T00:03:33.745985",
     "status": "completed"
    },
    "tags": []
   },
   "outputs": [
    {
     "data": {
      "application/javascript": [
       "parent.postMessage({\"jupyterEvent\": \"custom.exercise_interaction\", \"data\": {\"outcomeType\": 1, \"valueTowardsCompletion\": 0.14285714285714285, \"interactionType\": 1, \"questionType\": 2, \"questionId\": \"2_UniqueCountries\", \"learnToolsVersion\": \"0.3.4\", \"failureMessage\": \"\", \"exceptionClass\": \"\", \"trace\": \"\"}}, \"*\")"
      ],
      "text/plain": [
       "<IPython.core.display.Javascript object>"
      ]
     },
     "metadata": {},
     "output_type": "display_data"
    },
    {
     "data": {
      "text/markdown": [
       "<span style=\"color:#33cc33\">Correct</span>"
      ],
      "text/plain": [
       "Correct"
      ]
     },
     "metadata": {},
     "output_type": "display_data"
    }
   ],
   "source": [
    "countries = reviews.country.unique()\n",
    "\n",
    "# Check your answer\n",
    "q2.check()"
   ]
  },
  {
   "cell_type": "code",
   "execution_count": 5,
   "id": "157f81dc",
   "metadata": {
    "execution": {
     "iopub.execute_input": "2022-06-27T00:03:33.797195Z",
     "iopub.status.busy": "2022-06-27T00:03:33.796450Z",
     "iopub.status.idle": "2022-06-27T00:03:33.801014Z",
     "shell.execute_reply": "2022-06-27T00:03:33.800218Z"
    },
    "papermill": {
     "duration": 0.016083,
     "end_time": "2022-06-27T00:03:33.803271",
     "exception": false,
     "start_time": "2022-06-27T00:03:33.787188",
     "status": "completed"
    },
    "tags": []
   },
   "outputs": [],
   "source": [
    "#q2.hint()\n",
    "#q2.solution()"
   ]
  },
  {
   "cell_type": "markdown",
   "id": "f28704d4",
   "metadata": {
    "papermill": {
     "duration": 0.007477,
     "end_time": "2022-06-27T00:03:33.818418",
     "exception": false,
     "start_time": "2022-06-27T00:03:33.810941",
     "status": "completed"
    },
    "tags": []
   },
   "source": [
    "## 3.\n",
    "How often does each country appear in the dataset? Create a Series `reviews_per_country` mapping countries to the count of reviews of wines from that country."
   ]
  },
  {
   "cell_type": "code",
   "execution_count": 6,
   "id": "b3f9ddcc",
   "metadata": {
    "execution": {
     "iopub.execute_input": "2022-06-27T00:03:33.836927Z",
     "iopub.status.busy": "2022-06-27T00:03:33.836139Z",
     "iopub.status.idle": "2022-06-27T00:03:33.864811Z",
     "shell.execute_reply": "2022-06-27T00:03:33.863951Z"
    },
    "papermill": {
     "duration": 0.040301,
     "end_time": "2022-06-27T00:03:33.866973",
     "exception": false,
     "start_time": "2022-06-27T00:03:33.826672",
     "status": "completed"
    },
    "tags": []
   },
   "outputs": [
    {
     "data": {
      "application/javascript": [
       "parent.postMessage({\"jupyterEvent\": \"custom.exercise_interaction\", \"data\": {\"outcomeType\": 1, \"valueTowardsCompletion\": 0.14285714285714285, \"interactionType\": 1, \"questionType\": 1, \"questionId\": \"3_ReviewsPerCountry\", \"learnToolsVersion\": \"0.3.4\", \"failureMessage\": \"\", \"exceptionClass\": \"\", \"trace\": \"\"}}, \"*\")"
      ],
      "text/plain": [
       "<IPython.core.display.Javascript object>"
      ]
     },
     "metadata": {},
     "output_type": "display_data"
    },
    {
     "data": {
      "text/markdown": [
       "<span style=\"color:#33cc33\">Correct</span>"
      ],
      "text/plain": [
       "Correct"
      ]
     },
     "metadata": {},
     "output_type": "display_data"
    }
   ],
   "source": [
    "reviews_per_country = reviews.country.value_counts()\n",
    "\n",
    "# Check your answer\n",
    "q3.check()"
   ]
  },
  {
   "cell_type": "code",
   "execution_count": 7,
   "id": "fd930170",
   "metadata": {
    "execution": {
     "iopub.execute_input": "2022-06-27T00:03:33.884487Z",
     "iopub.status.busy": "2022-06-27T00:03:33.884087Z",
     "iopub.status.idle": "2022-06-27T00:03:33.888202Z",
     "shell.execute_reply": "2022-06-27T00:03:33.887444Z"
    },
    "papermill": {
     "duration": 0.015616,
     "end_time": "2022-06-27T00:03:33.890406",
     "exception": false,
     "start_time": "2022-06-27T00:03:33.874790",
     "status": "completed"
    },
    "tags": []
   },
   "outputs": [],
   "source": [
    "#q3.hint()\n",
    "#q3.solution()"
   ]
  },
  {
   "cell_type": "markdown",
   "id": "d77462cb",
   "metadata": {
    "papermill": {
     "duration": 0.007612,
     "end_time": "2022-06-27T00:03:33.906057",
     "exception": false,
     "start_time": "2022-06-27T00:03:33.898445",
     "status": "completed"
    },
    "tags": []
   },
   "source": [
    "## 4.\n",
    "Create variable `centered_price` containing a version of the `price` column with the mean price subtracted.\n",
    "\n",
    "(Note: this 'centering' transformation is a common preprocessing step before applying various machine learning algorithms.) "
   ]
  },
  {
   "cell_type": "code",
   "execution_count": 8,
   "id": "6c6c337e",
   "metadata": {
    "execution": {
     "iopub.execute_input": "2022-06-27T00:03:33.923845Z",
     "iopub.status.busy": "2022-06-27T00:03:33.923104Z",
     "iopub.status.idle": "2022-06-27T00:03:33.934130Z",
     "shell.execute_reply": "2022-06-27T00:03:33.933328Z"
    },
    "papermill": {
     "duration": 0.022386,
     "end_time": "2022-06-27T00:03:33.936232",
     "exception": false,
     "start_time": "2022-06-27T00:03:33.913846",
     "status": "completed"
    },
    "tags": []
   },
   "outputs": [
    {
     "data": {
      "application/javascript": [
       "parent.postMessage({\"jupyterEvent\": \"custom.exercise_interaction\", \"data\": {\"outcomeType\": 1, \"valueTowardsCompletion\": 0.14285714285714285, \"interactionType\": 1, \"questionType\": 1, \"questionId\": \"4_CenteredPrice\", \"learnToolsVersion\": \"0.3.4\", \"failureMessage\": \"\", \"exceptionClass\": \"\", \"trace\": \"\"}}, \"*\")"
      ],
      "text/plain": [
       "<IPython.core.display.Javascript object>"
      ]
     },
     "metadata": {},
     "output_type": "display_data"
    },
    {
     "data": {
      "text/markdown": [
       "<span style=\"color:#33cc33\">Correct</span>"
      ],
      "text/plain": [
       "Correct"
      ]
     },
     "metadata": {},
     "output_type": "display_data"
    }
   ],
   "source": [
    "centered_price = reviews.price - reviews.price.mean()\n",
    "\n",
    "# Check your answer\n",
    "q4.check()"
   ]
  },
  {
   "cell_type": "code",
   "execution_count": 9,
   "id": "62b4f2ad",
   "metadata": {
    "execution": {
     "iopub.execute_input": "2022-06-27T00:03:33.954938Z",
     "iopub.status.busy": "2022-06-27T00:03:33.954187Z",
     "iopub.status.idle": "2022-06-27T00:03:33.958704Z",
     "shell.execute_reply": "2022-06-27T00:03:33.957897Z"
    },
    "papermill": {
     "duration": 0.016081,
     "end_time": "2022-06-27T00:03:33.960848",
     "exception": false,
     "start_time": "2022-06-27T00:03:33.944767",
     "status": "completed"
    },
    "tags": []
   },
   "outputs": [],
   "source": [
    "#q4.hint()\n",
    "#q4.solution()"
   ]
  },
  {
   "cell_type": "markdown",
   "id": "1fb9f712",
   "metadata": {
    "papermill": {
     "duration": 0.007942,
     "end_time": "2022-06-27T00:03:33.976961",
     "exception": false,
     "start_time": "2022-06-27T00:03:33.969019",
     "status": "completed"
    },
    "tags": []
   },
   "source": [
    "## 5.\n",
    "I'm an economical wine buyer. Which wine is the \"best bargain\"? Create a variable `bargain_wine` with the title of the wine with the highest points-to-price ratio in the dataset."
   ]
  },
  {
   "cell_type": "code",
   "execution_count": 10,
   "id": "33ba6015",
   "metadata": {
    "execution": {
     "iopub.execute_input": "2022-06-27T00:03:33.995457Z",
     "iopub.status.busy": "2022-06-27T00:03:33.994733Z",
     "iopub.status.idle": "2022-06-27T00:03:34.010185Z",
     "shell.execute_reply": "2022-06-27T00:03:34.009241Z"
    },
    "papermill": {
     "duration": 0.027241,
     "end_time": "2022-06-27T00:03:34.012422",
     "exception": false,
     "start_time": "2022-06-27T00:03:33.985181",
     "status": "completed"
    },
    "tags": []
   },
   "outputs": [
    {
     "data": {
      "application/javascript": [
       "parent.postMessage({\"jupyterEvent\": \"custom.exercise_interaction\", \"data\": {\"outcomeType\": 1, \"valueTowardsCompletion\": 0.14285714285714285, \"interactionType\": 1, \"questionType\": 2, \"questionId\": \"5_BargainWine\", \"learnToolsVersion\": \"0.3.4\", \"failureMessage\": \"\", \"exceptionClass\": \"\", \"trace\": \"\"}}, \"*\")"
      ],
      "text/plain": [
       "<IPython.core.display.Javascript object>"
      ]
     },
     "metadata": {},
     "output_type": "display_data"
    },
    {
     "data": {
      "text/markdown": [
       "<span style=\"color:#33cc33\">Correct</span>"
      ],
      "text/plain": [
       "Correct"
      ]
     },
     "metadata": {},
     "output_type": "display_data"
    }
   ],
   "source": [
    "bargain_idx = (reviews.points / reviews.price).idxmax()\n",
    "bargain_wine = reviews.loc[bargain_idx,'title']\n",
    "\n",
    "# Check your answer\n",
    "q5.check()"
   ]
  },
  {
   "cell_type": "code",
   "execution_count": 11,
   "id": "6060ebc1",
   "metadata": {
    "execution": {
     "iopub.execute_input": "2022-06-27T00:03:34.032110Z",
     "iopub.status.busy": "2022-06-27T00:03:34.031511Z",
     "iopub.status.idle": "2022-06-27T00:03:34.035796Z",
     "shell.execute_reply": "2022-06-27T00:03:34.034991Z"
    },
    "papermill": {
     "duration": 0.016547,
     "end_time": "2022-06-27T00:03:34.037846",
     "exception": false,
     "start_time": "2022-06-27T00:03:34.021299",
     "status": "completed"
    },
    "tags": []
   },
   "outputs": [],
   "source": [
    "#q5.hint()\n",
    "#q5.solution()"
   ]
  },
  {
   "cell_type": "markdown",
   "id": "def44934",
   "metadata": {
    "papermill": {
     "duration": 0.008189,
     "end_time": "2022-06-27T00:03:34.054592",
     "exception": false,
     "start_time": "2022-06-27T00:03:34.046403",
     "status": "completed"
    },
    "tags": []
   },
   "source": [
    "## 6.\n",
    "There are only so many words you can use when describing a bottle of wine. Is a wine more likely to be \"tropical\" or \"fruity\"? Create a Series `descriptor_counts` counting how many times each of these two words appears in the `description` column in the dataset. (For simplicity, let's ignore the capitalized versions of these words.)"
   ]
  },
  {
   "cell_type": "code",
   "execution_count": 12,
   "id": "5c18569c",
   "metadata": {
    "execution": {
     "iopub.execute_input": "2022-06-27T00:03:34.073650Z",
     "iopub.status.busy": "2022-06-27T00:03:34.072992Z",
     "iopub.status.idle": "2022-06-27T00:03:34.226412Z",
     "shell.execute_reply": "2022-06-27T00:03:34.225298Z"
    },
    "papermill": {
     "duration": 0.1656,
     "end_time": "2022-06-27T00:03:34.228617",
     "exception": false,
     "start_time": "2022-06-27T00:03:34.063017",
     "status": "completed"
    },
    "tags": []
   },
   "outputs": [
    {
     "data": {
      "application/javascript": [
       "parent.postMessage({\"jupyterEvent\": \"custom.exercise_interaction\", \"data\": {\"outcomeType\": 1, \"valueTowardsCompletion\": 0.14285714285714285, \"interactionType\": 1, \"questionType\": 1, \"questionId\": \"6_DescriptorCounts\", \"learnToolsVersion\": \"0.3.4\", \"failureMessage\": \"\", \"exceptionClass\": \"\", \"trace\": \"\"}}, \"*\")"
      ],
      "text/plain": [
       "<IPython.core.display.Javascript object>"
      ]
     },
     "metadata": {},
     "output_type": "display_data"
    },
    {
     "data": {
      "text/markdown": [
       "<span style=\"color:#33cc33\">Correct</span>"
      ],
      "text/plain": [
       "Correct"
      ]
     },
     "metadata": {},
     "output_type": "display_data"
    }
   ],
   "source": [
    "n_trop = reviews.description.map(lambda desc: \"tropical\" in desc).sum()\n",
    "n_fruity = reviews.description.map(lambda desc: \"fruity\" in desc).sum()\n",
    "descriptor_counts = pd.Series([n_trop, n_fruity], index=['tropical', 'fruity'])\n",
    "# Check your answer\n",
    "q6.check()"
   ]
  },
  {
   "cell_type": "code",
   "execution_count": 13,
   "id": "34d517fb",
   "metadata": {
    "execution": {
     "iopub.execute_input": "2022-06-27T00:03:34.248122Z",
     "iopub.status.busy": "2022-06-27T00:03:34.247520Z",
     "iopub.status.idle": "2022-06-27T00:03:34.251984Z",
     "shell.execute_reply": "2022-06-27T00:03:34.250884Z"
    },
    "papermill": {
     "duration": 0.016637,
     "end_time": "2022-06-27T00:03:34.254127",
     "exception": false,
     "start_time": "2022-06-27T00:03:34.237490",
     "status": "completed"
    },
    "tags": []
   },
   "outputs": [],
   "source": [
    "#q6.hint()\n",
    "#q6.solution()"
   ]
  },
  {
   "cell_type": "markdown",
   "id": "f51b7dfb",
   "metadata": {
    "papermill": {
     "duration": 0.008599,
     "end_time": "2022-06-27T00:03:34.271630",
     "exception": false,
     "start_time": "2022-06-27T00:03:34.263031",
     "status": "completed"
    },
    "tags": []
   },
   "source": [
    "## 7.\n",
    "We'd like to host these wine reviews on our website, but a rating system ranging from 80 to 100 points is too hard to understand - we'd like to translate them into simple star ratings. A score of 95 or higher counts as 3 stars, a score of at least 85 but less than 95 is 2 stars. Any other score is 1 star.\n",
    "\n",
    "Also, the Canadian Vintners Association bought a lot of ads on the site, so any wines from Canada should automatically get 3 stars, regardless of points.\n",
    "\n",
    "Create a series `star_ratings` with the number of stars corresponding to each review in the dataset."
   ]
  },
  {
   "cell_type": "code",
   "execution_count": 14,
   "id": "ca9015ee",
   "metadata": {
    "execution": {
     "iopub.execute_input": "2022-06-27T00:03:34.291061Z",
     "iopub.status.busy": "2022-06-27T00:03:34.290666Z",
     "iopub.status.idle": "2022-06-27T00:03:39.332937Z",
     "shell.execute_reply": "2022-06-27T00:03:39.331760Z"
    },
    "papermill": {
     "duration": 5.054426,
     "end_time": "2022-06-27T00:03:39.335037",
     "exception": false,
     "start_time": "2022-06-27T00:03:34.280611",
     "status": "completed"
    },
    "tags": []
   },
   "outputs": [
    {
     "data": {
      "application/javascript": [
       "parent.postMessage({\"jupyterEvent\": \"custom.exercise_interaction\", \"data\": {\"outcomeType\": 1, \"valueTowardsCompletion\": 0.14285714285714285, \"interactionType\": 1, \"questionType\": 1, \"questionId\": \"7_StarRatings\", \"learnToolsVersion\": \"0.3.4\", \"failureMessage\": \"\", \"exceptionClass\": \"\", \"trace\": \"\"}}, \"*\")"
      ],
      "text/plain": [
       "<IPython.core.display.Javascript object>"
      ]
     },
     "metadata": {},
     "output_type": "display_data"
    },
    {
     "data": {
      "text/markdown": [
       "<span style=\"color:#33cc33\">Correct</span>"
      ],
      "text/plain": [
       "Correct"
      ]
     },
     "metadata": {},
     "output_type": "display_data"
    }
   ],
   "source": [
    "def stars(row):\n",
    "    if row.country == 'Canada':\n",
    "        return 3\n",
    "    elif row.points >= 95:\n",
    "        return 3\n",
    "    elif row.points >= 85:\n",
    "        return 2\n",
    "    else:\n",
    "        return 1\n",
    "\n",
    "star_ratings = reviews.apply(stars, axis='columns')\n",
    "# Check your answer\n",
    "q7.check()"
   ]
  },
  {
   "cell_type": "code",
   "execution_count": 15,
   "id": "e2d76c54",
   "metadata": {
    "execution": {
     "iopub.execute_input": "2022-06-27T00:03:39.355615Z",
     "iopub.status.busy": "2022-06-27T00:03:39.354885Z",
     "iopub.status.idle": "2022-06-27T00:03:39.359268Z",
     "shell.execute_reply": "2022-06-27T00:03:39.358461Z"
    },
    "papermill": {
     "duration": 0.017146,
     "end_time": "2022-06-27T00:03:39.361448",
     "exception": false,
     "start_time": "2022-06-27T00:03:39.344302",
     "status": "completed"
    },
    "tags": []
   },
   "outputs": [],
   "source": [
    "#q7.hint()\n",
    "#q7.solution()"
   ]
  },
  {
   "cell_type": "markdown",
   "id": "db3029f4",
   "metadata": {
    "papermill": {
     "duration": 0.009089,
     "end_time": "2022-06-27T00:03:39.379891",
     "exception": false,
     "start_time": "2022-06-27T00:03:39.370802",
     "status": "completed"
    },
    "tags": []
   },
   "source": [
    "# Keep going\n",
    "Continue to **[grouping and sorting](https://www.kaggle.com/residentmario/grouping-and-sorting)**."
   ]
  },
  {
   "cell_type": "markdown",
   "id": "35f845d1",
   "metadata": {
    "papermill": {
     "duration": 0.008946,
     "end_time": "2022-06-27T00:03:39.398341",
     "exception": false,
     "start_time": "2022-06-27T00:03:39.389395",
     "status": "completed"
    },
    "tags": []
   },
   "source": [
    "---\n",
    "\n",
    "\n",
    "\n",
    "\n",
    "*Have questions or comments? Visit the [course discussion forum](https://www.kaggle.com/learn/pandas/discussion) to chat with other learners.*"
   ]
  }
 ],
 "metadata": {
  "kernelspec": {
   "display_name": "Python 3",
   "language": "python",
   "name": "python3"
  },
  "language_info": {
   "codemirror_mode": {
    "name": "ipython",
    "version": 3
   },
   "file_extension": ".py",
   "mimetype": "text/x-python",
   "name": "python",
   "nbconvert_exporter": "python",
   "pygments_lexer": "ipython3",
   "version": "3.7.12"
  },
  "papermill": {
   "default_parameters": {},
   "duration": 23.971346,
   "end_time": "2022-06-27T00:03:40.028626",
   "environment_variables": {},
   "exception": null,
   "input_path": "__notebook__.ipynb",
   "output_path": "__notebook__.ipynb",
   "parameters": {},
   "start_time": "2022-06-27T00:03:16.057280",
   "version": "2.3.4"
  }
 },
 "nbformat": 4,
 "nbformat_minor": 5
}
